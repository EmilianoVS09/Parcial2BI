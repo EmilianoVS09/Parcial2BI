{
 "cells": [
  {
   "cell_type": "markdown",
   "id": "7fd16599-9799-4414-a7e1-79cf50add732",
   "metadata": {},
   "source": [
    "# Proceso exploratorio para la base de datos de AirBNB"
   ]
  },
  {
   "cell_type": "markdown",
   "id": "0baaa6d8-38c8-40b3-af93-94ae8efd0e28",
   "metadata": {},
   "source": [
    "## Importación de librerías"
   ]
  },
  {
   "cell_type": "code",
   "execution_count": 1,
   "id": "8d296854-2cb8-4681-90c7-ebc9df06761d",
   "metadata": {},
   "outputs": [],
   "source": [
    "import pandas as pd\n",
    "import matplotlib.pyplot as plt\n",
    "import seaborn as sns\n",
    "import os\n",
    "import sys\n",
    "import ast\n",
    "import numpy as np\n",
    "from pathlib import Path\n",
    "sys.path.insert(0, str((Path.cwd() / \"..\" / \"src\").resolve()))\n",
    "from extraction import Extraction"
   ]
  },
  {
   "cell_type": "markdown",
   "id": "a828c501-d0bd-420f-833c-e4722b63753f",
   "metadata": {},
   "source": [
    "## Conexión a la base de datos"
   ]
  },
  {
   "cell_type": "code",
   "execution_count": 2,
   "id": "c7739335-d3ea-4e82-8b81-a261102d952b",
   "metadata": {},
   "outputs": [
    {
     "name": "stdout",
     "output_type": "stream",
     "text": [
      "Conexión exitosa a la base de datos: bi_mx\n"
     ]
    }
   ],
   "source": [
    "uri = \"mongodb://localhost:27017/\"\n",
    "db_name = \"bi_mx\"\n",
    "\n",
    "extra = Extraction() #Creación del objeto de la clase Extraction\n",
    "db = extra.mongodb_connection(uri, db_name)"
   ]
  },
  {
   "cell_type": "markdown",
   "id": "6479b095-0123-4213-9b33-84581ebd468d",
   "metadata": {},
   "source": [
    "## Entendimiento general de los datos"
   ]
  },
  {
   "cell_type": "markdown",
   "id": "89e4d561-371a-4849-bc76-587518453d35",
   "metadata": {},
   "source": [
    "### Primeras filas de cada colección"
   ]
  },
  {
   "cell_type": "code",
   "execution_count": 26,
   "id": "6b97a41e-c9b4-4b51-82e4-f0a1fabb2ede",
   "metadata": {},
   "outputs": [],
   "source": [
    "#Creación de los DF de las colecciones\n",
    "df_listings = extra.load_mongodb_datasets(db, 'listings_mx')\n",
    "df_calendar = extra.load_mongodb_datasets(db, 'calendar_mx')\n",
    "df_reviews = extra.load_mongodb_datasets(db, 'reviews_mx')\n",
    "\n",
    "#Cerrar la conexión con la base de datos\n",
    "extra.close_mongodb_connection(uri)"
   ]
  },
  {
   "cell_type": "code",
   "execution_count": 4,
   "id": "ba690c72-f65f-43cf-8bf5-87aaf78b50e3",
   "metadata": {},
   "outputs": [
    {
     "data": {
      "text/html": [
       "<div>\n",
       "<style scoped>\n",
       "    .dataframe tbody tr th:only-of-type {\n",
       "        vertical-align: middle;\n",
       "    }\n",
       "\n",
       "    .dataframe tbody tr th {\n",
       "        vertical-align: top;\n",
       "    }\n",
       "\n",
       "    .dataframe thead th {\n",
       "        text-align: right;\n",
       "    }\n",
       "</style>\n",
       "<table border=\"1\" class=\"dataframe\">\n",
       "  <thead>\n",
       "    <tr style=\"text-align: right;\">\n",
       "      <th></th>\n",
       "      <th>_id</th>\n",
       "      <th>id</th>\n",
       "      <th>listing_url</th>\n",
       "      <th>scrape_id</th>\n",
       "      <th>last_scraped</th>\n",
       "      <th>source</th>\n",
       "      <th>name</th>\n",
       "      <th>description</th>\n",
       "      <th>neighborhood_overview</th>\n",
       "      <th>picture_url</th>\n",
       "      <th>...</th>\n",
       "      <th>first_review</th>\n",
       "      <th>last_review</th>\n",
       "      <th>review_scores_rating</th>\n",
       "      <th>review_scores_accuracy</th>\n",
       "      <th>review_scores_cleanliness</th>\n",
       "      <th>review_scores_checkin</th>\n",
       "      <th>review_scores_communication</th>\n",
       "      <th>review_scores_location</th>\n",
       "      <th>review_scores_value</th>\n",
       "      <th>reviews_per_month</th>\n",
       "    </tr>\n",
       "  </thead>\n",
       "  <tbody>\n",
       "    <tr>\n",
       "      <th>0</th>\n",
       "      <td>68b1b29599c73fe63e06d79b</td>\n",
       "      <td>35797</td>\n",
       "      <td>https://www.airbnb.com/rooms/35797</td>\n",
       "      <td>20250319150644</td>\n",
       "      <td>2025-03-21</td>\n",
       "      <td>city scrape</td>\n",
       "      <td>Villa Dante</td>\n",
       "      <td>Dentro de Villa un estudio de arte con futon, ...</td>\n",
       "      <td>Santa Fe Shopping Mall, Interlomas Park and th...</td>\n",
       "      <td>https://a0.muscache.com/pictures/f395ab78-1185...</td>\n",
       "      <td>...</td>\n",
       "      <td>NaT</td>\n",
       "      <td>NaT</td>\n",
       "      <td>NaN</td>\n",
       "      <td>NaN</td>\n",
       "      <td>NaN</td>\n",
       "      <td>NaN</td>\n",
       "      <td>NaN</td>\n",
       "      <td>NaN</td>\n",
       "      <td>NaN</td>\n",
       "      <td>NaN</td>\n",
       "    </tr>\n",
       "    <tr>\n",
       "      <th>1</th>\n",
       "      <td>68b1b29599c73fe63e06d79c</td>\n",
       "      <td>44616</td>\n",
       "      <td>https://www.airbnb.com/rooms/44616</td>\n",
       "      <td>20250319150644</td>\n",
       "      <td>2025-03-20</td>\n",
       "      <td>previous scrape</td>\n",
       "      <td>Condesa Haus</td>\n",
       "      <td>A new concept of hosting in mexico through a b...</td>\n",
       "      <td>NaN</td>\n",
       "      <td>https://a0.muscache.com/pictures/251410/ec75fe...</td>\n",
       "      <td>...</td>\n",
       "      <td>2011-11-09</td>\n",
       "      <td>2025-01-01</td>\n",
       "      <td>4.59</td>\n",
       "      <td>4.56</td>\n",
       "      <td>4.70</td>\n",
       "      <td>4.87</td>\n",
       "      <td>4.78</td>\n",
       "      <td>4.98</td>\n",
       "      <td>4.47</td>\n",
       "      <td>0.40</td>\n",
       "    </tr>\n",
       "    <tr>\n",
       "      <th>2</th>\n",
       "      <td>68b1b29599c73fe63e06d79d</td>\n",
       "      <td>56074</td>\n",
       "      <td>https://www.airbnb.com/rooms/56074</td>\n",
       "      <td>20250319150644</td>\n",
       "      <td>2025-03-20</td>\n",
       "      <td>city scrape</td>\n",
       "      <td>Great space in historical San Rafael</td>\n",
       "      <td>This great apartment is located in one of the ...</td>\n",
       "      <td>Very traditional neighborhood with all service...</td>\n",
       "      <td>https://a0.muscache.com/pictures/3005118/60dac...</td>\n",
       "      <td>...</td>\n",
       "      <td>2011-04-02</td>\n",
       "      <td>2025-02-27</td>\n",
       "      <td>4.87</td>\n",
       "      <td>4.95</td>\n",
       "      <td>4.88</td>\n",
       "      <td>4.98</td>\n",
       "      <td>4.94</td>\n",
       "      <td>4.76</td>\n",
       "      <td>4.79</td>\n",
       "      <td>0.49</td>\n",
       "    </tr>\n",
       "    <tr>\n",
       "      <th>3</th>\n",
       "      <td>68b1b29599c73fe63e06d79e</td>\n",
       "      <td>67703</td>\n",
       "      <td>https://www.airbnb.com/rooms/67703</td>\n",
       "      <td>20250319150644</td>\n",
       "      <td>2025-03-20</td>\n",
       "      <td>previous scrape</td>\n",
       "      <td>2 bedroom apt. deco bldg, Condesa</td>\n",
       "      <td>Comfortably furnished, sunny, 2 bedroom apt., ...</td>\n",
       "      <td>NaN</td>\n",
       "      <td>https://a0.muscache.com/pictures/3281720/6f078...</td>\n",
       "      <td>...</td>\n",
       "      <td>2011-11-17</td>\n",
       "      <td>2024-10-30</td>\n",
       "      <td>4.90</td>\n",
       "      <td>4.82</td>\n",
       "      <td>4.76</td>\n",
       "      <td>4.94</td>\n",
       "      <td>4.92</td>\n",
       "      <td>4.98</td>\n",
       "      <td>4.92</td>\n",
       "      <td>0.31</td>\n",
       "    </tr>\n",
       "    <tr>\n",
       "      <th>4</th>\n",
       "      <td>68b1b29599c73fe63e06d79f</td>\n",
       "      <td>70644</td>\n",
       "      <td>https://www.airbnb.com/rooms/70644</td>\n",
       "      <td>20250319150644</td>\n",
       "      <td>2025-03-22</td>\n",
       "      <td>city scrape</td>\n",
       "      <td>Beautiful light Studio Coyoacan- full equipped !</td>\n",
       "      <td>COYOACAN designer studio quiet &amp; safe! well eq...</td>\n",
       "      <td>Coyoacan is a beautiful neighborhood famous fo...</td>\n",
       "      <td>https://a0.muscache.com/pictures/f397d2da-d045...</td>\n",
       "      <td>...</td>\n",
       "      <td>2012-02-14</td>\n",
       "      <td>2024-12-28</td>\n",
       "      <td>4.92</td>\n",
       "      <td>4.91</td>\n",
       "      <td>4.96</td>\n",
       "      <td>4.96</td>\n",
       "      <td>4.98</td>\n",
       "      <td>4.96</td>\n",
       "      <td>4.92</td>\n",
       "      <td>0.83</td>\n",
       "    </tr>\n",
       "  </tbody>\n",
       "</table>\n",
       "<p>5 rows × 77 columns</p>\n",
       "</div>"
      ],
      "text/plain": [
       "                        _id     id                         listing_url  \\\n",
       "0  68b1b29599c73fe63e06d79b  35797  https://www.airbnb.com/rooms/35797   \n",
       "1  68b1b29599c73fe63e06d79c  44616  https://www.airbnb.com/rooms/44616   \n",
       "2  68b1b29599c73fe63e06d79d  56074  https://www.airbnb.com/rooms/56074   \n",
       "3  68b1b29599c73fe63e06d79e  67703  https://www.airbnb.com/rooms/67703   \n",
       "4  68b1b29599c73fe63e06d79f  70644  https://www.airbnb.com/rooms/70644   \n",
       "\n",
       "        scrape_id last_scraped           source  \\\n",
       "0  20250319150644   2025-03-21      city scrape   \n",
       "1  20250319150644   2025-03-20  previous scrape   \n",
       "2  20250319150644   2025-03-20      city scrape   \n",
       "3  20250319150644   2025-03-20  previous scrape   \n",
       "4  20250319150644   2025-03-22      city scrape   \n",
       "\n",
       "                                               name  \\\n",
       "0                                       Villa Dante   \n",
       "1                                      Condesa Haus   \n",
       "2              Great space in historical San Rafael   \n",
       "3                 2 bedroom apt. deco bldg, Condesa   \n",
       "4  Beautiful light Studio Coyoacan- full equipped !   \n",
       "\n",
       "                                         description  \\\n",
       "0  Dentro de Villa un estudio de arte con futon, ...   \n",
       "1  A new concept of hosting in mexico through a b...   \n",
       "2  This great apartment is located in one of the ...   \n",
       "3  Comfortably furnished, sunny, 2 bedroom apt., ...   \n",
       "4  COYOACAN designer studio quiet & safe! well eq...   \n",
       "\n",
       "                               neighborhood_overview  \\\n",
       "0  Santa Fe Shopping Mall, Interlomas Park and th...   \n",
       "1                                                NaN   \n",
       "2  Very traditional neighborhood with all service...   \n",
       "3                                                NaN   \n",
       "4  Coyoacan is a beautiful neighborhood famous fo...   \n",
       "\n",
       "                                         picture_url  ...  first_review  \\\n",
       "0  https://a0.muscache.com/pictures/f395ab78-1185...  ...           NaT   \n",
       "1  https://a0.muscache.com/pictures/251410/ec75fe...  ...    2011-11-09   \n",
       "2  https://a0.muscache.com/pictures/3005118/60dac...  ...    2011-04-02   \n",
       "3  https://a0.muscache.com/pictures/3281720/6f078...  ...    2011-11-17   \n",
       "4  https://a0.muscache.com/pictures/f397d2da-d045...  ...    2012-02-14   \n",
       "\n",
       "  last_review review_scores_rating review_scores_accuracy  \\\n",
       "0         NaT                  NaN                    NaN   \n",
       "1  2025-01-01                 4.59                   4.56   \n",
       "2  2025-02-27                 4.87                   4.95   \n",
       "3  2024-10-30                 4.90                   4.82   \n",
       "4  2024-12-28                 4.92                   4.91   \n",
       "\n",
       "  review_scores_cleanliness review_scores_checkin review_scores_communication  \\\n",
       "0                       NaN                   NaN                         NaN   \n",
       "1                      4.70                  4.87                        4.78   \n",
       "2                      4.88                  4.98                        4.94   \n",
       "3                      4.76                  4.94                        4.92   \n",
       "4                      4.96                  4.96                        4.98   \n",
       "\n",
       "  review_scores_location review_scores_value reviews_per_month  \n",
       "0                    NaN                 NaN               NaN  \n",
       "1                   4.98                4.47              0.40  \n",
       "2                   4.76                4.79              0.49  \n",
       "3                   4.98                4.92              0.31  \n",
       "4                   4.96                4.92              0.83  \n",
       "\n",
       "[5 rows x 77 columns]"
      ]
     },
     "execution_count": 4,
     "metadata": {},
     "output_type": "execute_result"
    }
   ],
   "source": [
    "#Obtención de las primeras filas de la colección listings\n",
    "df_listings.head()"
   ]
  },
  {
   "cell_type": "code",
   "execution_count": 23,
   "id": "73a506ee-d4ed-4d66-bd98-63520abca13f",
   "metadata": {},
   "outputs": [
    {
     "data": {
      "text/html": [
       "<div>\n",
       "<style scoped>\n",
       "    .dataframe tbody tr th:only-of-type {\n",
       "        vertical-align: middle;\n",
       "    }\n",
       "\n",
       "    .dataframe tbody tr th {\n",
       "        vertical-align: top;\n",
       "    }\n",
       "\n",
       "    .dataframe thead th {\n",
       "        text-align: right;\n",
       "    }\n",
       "</style>\n",
       "<table border=\"1\" class=\"dataframe\">\n",
       "  <thead>\n",
       "    <tr style=\"text-align: right;\">\n",
       "      <th></th>\n",
       "      <th>_id</th>\n",
       "      <th>listing_id</th>\n",
       "      <th>date</th>\n",
       "      <th>available</th>\n",
       "      <th>price</th>\n",
       "      <th>minimum_nights</th>\n",
       "      <th>maximum_nights</th>\n",
       "      <th>adjusted_price</th>\n",
       "    </tr>\n",
       "  </thead>\n",
       "  <tbody>\n",
       "    <tr>\n",
       "      <th>0</th>\n",
       "      <td>68ba3ad4c2b559caebfeba1e</td>\n",
       "      <td>287940</td>\n",
       "      <td>2025-03-20</td>\n",
       "      <td>False</td>\n",
       "      <td>$50.00</td>\n",
       "      <td>1.0</td>\n",
       "      <td>1125.0</td>\n",
       "      <td>NaN</td>\n",
       "    </tr>\n",
       "    <tr>\n",
       "      <th>1</th>\n",
       "      <td>68ba3ad4c2b559caebfeba1f</td>\n",
       "      <td>287940</td>\n",
       "      <td>2025-03-21</td>\n",
       "      <td>False</td>\n",
       "      <td>$50.00</td>\n",
       "      <td>1.0</td>\n",
       "      <td>1125.0</td>\n",
       "      <td>NaN</td>\n",
       "    </tr>\n",
       "    <tr>\n",
       "      <th>2</th>\n",
       "      <td>68ba3ad4c2b559caebfeba20</td>\n",
       "      <td>287940</td>\n",
       "      <td>2025-03-22</td>\n",
       "      <td>False</td>\n",
       "      <td>$50.00</td>\n",
       "      <td>1.0</td>\n",
       "      <td>1125.0</td>\n",
       "      <td>NaN</td>\n",
       "    </tr>\n",
       "    <tr>\n",
       "      <th>3</th>\n",
       "      <td>68ba3ad4c2b559caebfeba21</td>\n",
       "      <td>287940</td>\n",
       "      <td>2025-03-23</td>\n",
       "      <td>False</td>\n",
       "      <td>$50.00</td>\n",
       "      <td>1.0</td>\n",
       "      <td>1125.0</td>\n",
       "      <td>NaN</td>\n",
       "    </tr>\n",
       "    <tr>\n",
       "      <th>4</th>\n",
       "      <td>68ba3ad4c2b559caebfeba22</td>\n",
       "      <td>287940</td>\n",
       "      <td>2025-03-24</td>\n",
       "      <td>False</td>\n",
       "      <td>$50.00</td>\n",
       "      <td>1.0</td>\n",
       "      <td>1125.0</td>\n",
       "      <td>NaN</td>\n",
       "    </tr>\n",
       "  </tbody>\n",
       "</table>\n",
       "</div>"
      ],
      "text/plain": [
       "                        _id  listing_id       date  available   price  \\\n",
       "0  68ba3ad4c2b559caebfeba1e      287940 2025-03-20      False  $50.00   \n",
       "1  68ba3ad4c2b559caebfeba1f      287940 2025-03-21      False  $50.00   \n",
       "2  68ba3ad4c2b559caebfeba20      287940 2025-03-22      False  $50.00   \n",
       "3  68ba3ad4c2b559caebfeba21      287940 2025-03-23      False  $50.00   \n",
       "4  68ba3ad4c2b559caebfeba22      287940 2025-03-24      False  $50.00   \n",
       "\n",
       "   minimum_nights  maximum_nights adjusted_price  \n",
       "0             1.0          1125.0            NaN  \n",
       "1             1.0          1125.0            NaN  \n",
       "2             1.0          1125.0            NaN  \n",
       "3             1.0          1125.0            NaN  \n",
       "4             1.0          1125.0            NaN  "
      ]
     },
     "execution_count": 23,
     "metadata": {},
     "output_type": "execute_result"
    }
   ],
   "source": [
    "#Obtención de las primeras filas de la colección calendar\n",
    "df_calendar.head()"
   ]
  },
  {
   "cell_type": "code",
   "execution_count": 6,
   "id": "54fe140c-5f8c-4e24-946d-ec7622cc1f1b",
   "metadata": {},
   "outputs": [
    {
     "data": {
      "text/html": [
       "<div>\n",
       "<style scoped>\n",
       "    .dataframe tbody tr th:only-of-type {\n",
       "        vertical-align: middle;\n",
       "    }\n",
       "\n",
       "    .dataframe tbody tr th {\n",
       "        vertical-align: top;\n",
       "    }\n",
       "\n",
       "    .dataframe thead th {\n",
       "        text-align: right;\n",
       "    }\n",
       "</style>\n",
       "<table border=\"1\" class=\"dataframe\">\n",
       "  <thead>\n",
       "    <tr style=\"text-align: right;\">\n",
       "      <th></th>\n",
       "      <th>_id</th>\n",
       "      <th>listing_id</th>\n",
       "      <th>id</th>\n",
       "      <th>date</th>\n",
       "      <th>reviewer_id</th>\n",
       "      <th>reviewer_name</th>\n",
       "      <th>comments</th>\n",
       "    </tr>\n",
       "  </thead>\n",
       "  <tbody>\n",
       "    <tr>\n",
       "      <th>0</th>\n",
       "      <td>68ba3a56c2b559caebeaa58b</td>\n",
       "      <td>44616</td>\n",
       "      <td>706908</td>\n",
       "      <td>2011-11-09</td>\n",
       "      <td>634733</td>\n",
       "      <td>Lindsay</td>\n",
       "      <td>Forget staying in a hotel. Stay at condesa hau...</td>\n",
       "    </tr>\n",
       "    <tr>\n",
       "      <th>1</th>\n",
       "      <td>68ba3a56c2b559caebeaa58c</td>\n",
       "      <td>44616</td>\n",
       "      <td>2006160</td>\n",
       "      <td>2012-08-16</td>\n",
       "      <td>3087087</td>\n",
       "      <td>Samuel</td>\n",
       "      <td>Fantastic location, great place, friendly host...</td>\n",
       "    </tr>\n",
       "    <tr>\n",
       "      <th>2</th>\n",
       "      <td>68ba3a56c2b559caebeaa58d</td>\n",
       "      <td>44616</td>\n",
       "      <td>3174954</td>\n",
       "      <td>2012-12-28</td>\n",
       "      <td>3234920</td>\n",
       "      <td>Anna</td>\n",
       "      <td>I would highly recommend Condesa Haus for anyo...</td>\n",
       "    </tr>\n",
       "    <tr>\n",
       "      <th>3</th>\n",
       "      <td>68ba3a56c2b559caebeaa58e</td>\n",
       "      <td>44616</td>\n",
       "      <td>3271579</td>\n",
       "      <td>2013-01-04</td>\n",
       "      <td>2199822</td>\n",
       "      <td>Shelley And Pall</td>\n",
       "      <td>Great stay. Thanks. Highly recommend.</td>\n",
       "    </tr>\n",
       "    <tr>\n",
       "      <th>4</th>\n",
       "      <td>68ba3a56c2b559caebeaa58f</td>\n",
       "      <td>44616</td>\n",
       "      <td>3841065</td>\n",
       "      <td>2013-03-19</td>\n",
       "      <td>2423825</td>\n",
       "      <td>Leonardo</td>\n",
       "      <td>This was not a very good experience I am afrai...</td>\n",
       "    </tr>\n",
       "  </tbody>\n",
       "</table>\n",
       "</div>"
      ],
      "text/plain": [
       "                        _id  listing_id       id       date  reviewer_id  \\\n",
       "0  68ba3a56c2b559caebeaa58b       44616   706908 2011-11-09       634733   \n",
       "1  68ba3a56c2b559caebeaa58c       44616  2006160 2012-08-16      3087087   \n",
       "2  68ba3a56c2b559caebeaa58d       44616  3174954 2012-12-28      3234920   \n",
       "3  68ba3a56c2b559caebeaa58e       44616  3271579 2013-01-04      2199822   \n",
       "4  68ba3a56c2b559caebeaa58f       44616  3841065 2013-03-19      2423825   \n",
       "\n",
       "      reviewer_name                                           comments  \n",
       "0           Lindsay  Forget staying in a hotel. Stay at condesa hau...  \n",
       "1            Samuel  Fantastic location, great place, friendly host...  \n",
       "2              Anna  I would highly recommend Condesa Haus for anyo...  \n",
       "3  Shelley And Pall             Great stay. Thanks. Highly recommend.   \n",
       "4          Leonardo  This was not a very good experience I am afrai...  "
      ]
     },
     "execution_count": 6,
     "metadata": {},
     "output_type": "execute_result"
    }
   ],
   "source": [
    "#Obtención de las primeras filas de la colección reviews\n",
    "df_reviews.head()"
   ]
  },
  {
   "cell_type": "markdown",
   "id": "e10f2f12-658d-4421-a086-bc768d776c78",
   "metadata": {},
   "source": [
    "### Cantidad de registros y columnas"
   ]
  },
  {
   "cell_type": "code",
   "execution_count": 7,
   "id": "d361f065-e410-4b2b-90f4-70bc3d90bac7",
   "metadata": {},
   "outputs": [
    {
     "name": "stdout",
     "output_type": "stream",
     "text": [
      "Número de registros de la colección listings: 26067\n",
      "Número de columnas de la colección listings: 77\n",
      "\n",
      "Número de registros de la colección calendar: 9514717\n",
      "Número de columnas de la colección calendar: 8\n",
      "\n",
      "Número de registros de la colección reviews: 1315986\n",
      "Número de columnas de la colección reviews: 7\n"
     ]
    }
   ],
   "source": [
    "#Colección listings\n",
    "n_rows, n_columns = df_listings.shape\n",
    "print(f\"Número de registros de la colección listings: {n_rows}\")\n",
    "print(f\"Número de columnas de la colección listings: {n_columns}\\n\")\n",
    "\n",
    "#Colección calendar\n",
    "n_rows, n_columns = df_calendar.shape\n",
    "print(f\"Número de registros de la colección calendar: {n_rows}\")\n",
    "print(f\"Número de columnas de la colección calendar: {n_columns}\\n\")\n",
    "\n",
    "#Colección reviews\n",
    "n_rows, n_columns = df_reviews.shape\n",
    "print(f\"Número de registros de la colección reviews: {n_rows}\")\n",
    "print(f\"Número de columnas de la colección reviews: {n_columns}\")"
   ]
  },
  {
   "cell_type": "markdown",
   "id": "de2f6625-6548-416d-b0bb-6a434c2a2351",
   "metadata": {},
   "source": [
    "Teniendo en cuenta la gran cantidad de registros que tiene calendar, esto va a consumir muchos recursos de máquina mientras se hace el análisis exploratorio de los datos. Razón por la cual, durante este proceso se va a reducir el tamaño del dataframe, escogiendo los registros que pertenzcan a un trimestre específico. Esto  también puede ayudar a tener un análisis más profundo de la información de la colección y ver como se comportan las reservas.\n",
    "Con lo cual, se procede a revisar qué trimestre comprende la colección:"
   ]
  },
  {
   "cell_type": "code",
   "execution_count": 32,
   "id": "2ab64b5e-4cd9-4439-b940-58343f176ebc",
   "metadata": {},
   "outputs": [
    {
     "name": "stdout",
     "output_type": "stream",
     "text": [
      "date\n",
      "2025Q1     297742\n",
      "2025Q2    2372097\n",
      "2025Q3    2398164\n",
      "2025Q4    2398164\n",
      "2026Q1    2048550\n",
      "Freq: Q-DEC, Name: count, dtype: int64\n"
     ]
    }
   ],
   "source": [
    "#Trimestres en df_calendar\n",
    "yq_counts = (\n",
    "    df_calendar['date']\n",
    "      .dt.to_period('Q')\n",
    "      .value_counts()\n",
    "      .sort_index()\n",
    ")\n",
    "print(yq_counts)"
   ]
  },
  {
   "cell_type": "markdown",
   "id": "e910f2a3-c403-49fa-a124-8e3692c4a27e",
   "metadata": {},
   "source": [
    "En este caso, se va a escoger el trimestre 2 del año 2025 (realmente no hay razón especíca, podría haber sido cualquiera. Todos, a excepción del trimestre 1 del 2025, aportan bastantes datos para hacer un buen análisis)"
   ]
  },
  {
   "cell_type": "code",
   "execution_count": 35,
   "id": "d25a40a9-1038-48cf-ab84-561fc6686f8c",
   "metadata": {},
   "outputs": [],
   "source": [
    "#Filtrar df_calendar por trimestre 2025Q2\n",
    "year = 2025\n",
    "quarter = 2\n",
    "\n",
    "mask = (df_calendar['date'].dt.year == year) & (df_calendar['date'].dt.quarter == quarter)\n",
    "df_calendar = df_calendar.loc[mask].copy()"
   ]
  },
  {
   "cell_type": "code",
   "execution_count": 36,
   "id": "4969babb-2e84-4d9d-958f-caad94416ff3",
   "metadata": {},
   "outputs": [
    {
     "name": "stdout",
     "output_type": "stream",
     "text": [
      "Número de registros de la colección calendar: 2372097\n",
      "Número de columnas de la colección calendar: 8\n",
      "\n"
     ]
    }
   ],
   "source": [
    "#Revisando nuevamente la información de registros y columnas del df_calendar\n",
    "n_rows, n_columns = df_calendar.shape\n",
    "print(f\"Número de registros de la colección calendar: {n_rows}\")\n",
    "print(f\"Número de columnas de la colección calendar: {n_columns}\\n\")"
   ]
  },
  {
   "cell_type": "markdown",
   "id": "15f01922-6022-45bc-abaf-f6944a9e1be1",
   "metadata": {},
   "source": [
    "### Verificar tipos de datos"
   ]
  },
  {
   "cell_type": "code",
   "execution_count": 8,
   "id": "c646575e-75f9-4d5f-a133-be751159f7b1",
   "metadata": {},
   "outputs": [
    {
     "name": "stdout",
     "output_type": "stream",
     "text": [
      "<class 'pandas.core.frame.DataFrame'>\n",
      "RangeIndex: 26067 entries, 0 to 26066\n",
      "Data columns (total 77 columns):\n",
      " #   Column                                        Non-Null Count  Dtype         \n",
      "---  ------                                        --------------  -----         \n",
      " 0   _id                                           26067 non-null  object        \n",
      " 1   id                                            26067 non-null  int64         \n",
      " 2   listing_url                                   26067 non-null  object        \n",
      " 3   scrape_id                                     26067 non-null  int64         \n",
      " 4   last_scraped                                  26067 non-null  datetime64[ns]\n",
      " 5   source                                        26067 non-null  object        \n",
      " 6   name                                          26067 non-null  object        \n",
      " 7   description                                   25300 non-null  object        \n",
      " 8   neighborhood_overview                         14391 non-null  object        \n",
      " 9   picture_url                                   26067 non-null  object        \n",
      " 10  host_id                                       26067 non-null  int64         \n",
      " 11  host_url                                      26067 non-null  object        \n",
      " 12  host_name                                     26062 non-null  object        \n",
      " 13  host_since                                    26062 non-null  datetime64[ns]\n",
      " 14  host_location                                 20587 non-null  object        \n",
      " 15  host_about                                    15611 non-null  object        \n",
      " 16  host_response_time                            26062 non-null  object        \n",
      " 17  host_response_rate                            26062 non-null  object        \n",
      " 18  host_acceptance_rate                          26062 non-null  object        \n",
      " 19  host_is_superhost                             24724 non-null  object        \n",
      " 20  host_thumbnail_url                            26062 non-null  object        \n",
      " 21  host_picture_url                              26062 non-null  object        \n",
      " 22  host_listings_count                           26062 non-null  float64       \n",
      " 23  host_total_listings_count                     26062 non-null  float64       \n",
      " 24  host_verifications                            26067 non-null  object        \n",
      " 25  host_has_profile_pic                          26062 non-null  object        \n",
      " 26  host_identity_verified                        26062 non-null  object        \n",
      " 27  neighbourhood                                 14391 non-null  object        \n",
      " 28  neighbourhood_cleansed                        26067 non-null  object        \n",
      " 29  latitude                                      26067 non-null  float64       \n",
      " 30  longitude                                     26067 non-null  float64       \n",
      " 31  property_type                                 26067 non-null  object        \n",
      " 32  room_type                                     26067 non-null  object        \n",
      " 33  accommodates                                  26067 non-null  int64         \n",
      " 34  bathrooms                                     22062 non-null  float64       \n",
      " 35  bathrooms_text                                26040 non-null  object        \n",
      " 36  bedrooms                                      25096 non-null  float64       \n",
      " 37  beds                                          22045 non-null  float64       \n",
      " 38  amenities                                     26067 non-null  object        \n",
      " 39  price                                         22068 non-null  object        \n",
      " 40  minimum_nights                                26067 non-null  int64         \n",
      " 41  maximum_nights                                26067 non-null  int64         \n",
      " 42  minimum_minimum_nights                        26067 non-null  int64         \n",
      " 43  maximum_minimum_nights                        26067 non-null  int64         \n",
      " 44  minimum_maximum_nights                        26067 non-null  int64         \n",
      " 45  maximum_maximum_nights                        26067 non-null  int64         \n",
      " 46  minimum_nights_avg_ntm                        26067 non-null  float64       \n",
      " 47  maximum_nights_avg_ntm                        26067 non-null  float64       \n",
      " 48  has_availability                              25076 non-null  object        \n",
      " 49  availability_30                               26067 non-null  int64         \n",
      " 50  availability_60                               26067 non-null  int64         \n",
      " 51  availability_90                               26067 non-null  int64         \n",
      " 52  availability_365                              26067 non-null  int64         \n",
      " 53  calendar_last_scraped                         26067 non-null  datetime64[ns]\n",
      " 54  number_of_reviews                             26067 non-null  int64         \n",
      " 55  number_of_reviews_ltm                         26067 non-null  int64         \n",
      " 56  number_of_reviews_l30d                        26067 non-null  int64         \n",
      " 57  availability_eoy                              26067 non-null  int64         \n",
      " 58  number_of_reviews_ly                          26067 non-null  int64         \n",
      " 59  estimated_occupancy_l365d                     26067 non-null  int64         \n",
      " 60  estimated_revenue_l365d                       22068 non-null  float64       \n",
      " 61  instant_bookable                              26067 non-null  bool          \n",
      " 62  calculated_host_listings_count                26067 non-null  int64         \n",
      " 63  calculated_host_listings_count_entire_homes   26067 non-null  int64         \n",
      " 64  calculated_host_listings_count_private_rooms  26067 non-null  int64         \n",
      " 65  calculated_host_listings_count_shared_rooms   26067 non-null  int64         \n",
      " 66  host_neighbourhood                            13875 non-null  object        \n",
      " 67  first_review                                  22806 non-null  datetime64[ns]\n",
      " 68  last_review                                   22806 non-null  datetime64[ns]\n",
      " 69  review_scores_rating                          22806 non-null  float64       \n",
      " 70  review_scores_accuracy                        22805 non-null  float64       \n",
      " 71  review_scores_cleanliness                     22805 non-null  float64       \n",
      " 72  review_scores_checkin                         22805 non-null  float64       \n",
      " 73  review_scores_communication                   22805 non-null  float64       \n",
      " 74  review_scores_location                        22805 non-null  float64       \n",
      " 75  review_scores_value                           22805 non-null  float64       \n",
      " 76  reviews_per_month                             22806 non-null  float64       \n",
      "dtypes: bool(1), datetime64[ns](5), float64(18), int64(24), object(29)\n",
      "memory usage: 15.1+ MB\n"
     ]
    }
   ],
   "source": [
    "#Colección listings\n",
    "df_listings.info()"
   ]
  },
  {
   "cell_type": "code",
   "execution_count": 37,
   "id": "64ab8f15-e212-4e67-868d-513cff126c77",
   "metadata": {},
   "outputs": [
    {
     "name": "stdout",
     "output_type": "stream",
     "text": [
      "<class 'pandas.core.frame.DataFrame'>\n",
      "Index: 2372097 entries, 12 to 9514454\n",
      "Data columns (total 8 columns):\n",
      " #   Column          Dtype         \n",
      "---  ------          -----         \n",
      " 0   _id             object        \n",
      " 1   listing_id      int64         \n",
      " 2   date            datetime64[ns]\n",
      " 3   available       bool          \n",
      " 4   price           object        \n",
      " 5   minimum_nights  float64       \n",
      " 6   maximum_nights  float64       \n",
      " 7   adjusted_price  object        \n",
      "dtypes: bool(1), datetime64[ns](1), float64(2), int64(1), object(3)\n",
      "memory usage: 147.0+ MB\n"
     ]
    }
   ],
   "source": [
    "#Colección calendar\n",
    "df_calendar.info()"
   ]
  },
  {
   "cell_type": "code",
   "execution_count": 10,
   "id": "b9b4fbe2-c2c6-4b5e-8570-cfb7c86879f1",
   "metadata": {
    "scrolled": true
   },
   "outputs": [
    {
     "name": "stdout",
     "output_type": "stream",
     "text": [
      "<class 'pandas.core.frame.DataFrame'>\n",
      "RangeIndex: 1315986 entries, 0 to 1315985\n",
      "Data columns (total 7 columns):\n",
      " #   Column         Non-Null Count    Dtype         \n",
      "---  ------         --------------    -----         \n",
      " 0   _id            1315986 non-null  object        \n",
      " 1   listing_id     1315986 non-null  int64         \n",
      " 2   id             1315986 non-null  int64         \n",
      " 3   date           1315986 non-null  datetime64[ns]\n",
      " 4   reviewer_id    1315986 non-null  int64         \n",
      " 5   reviewer_name  1315980 non-null  object        \n",
      " 6   comments       1315986 non-null  object        \n",
      "dtypes: datetime64[ns](1), int64(3), object(3)\n",
      "memory usage: 70.3+ MB\n"
     ]
    }
   ],
   "source": [
    "#Colección reviews\n",
    "df_reviews.info()"
   ]
  },
  {
   "cell_type": "markdown",
   "id": "fb5bc3ba-c179-4bd0-9cc1-51c684ef4e77",
   "metadata": {},
   "source": [
    "## Calidad de los datos"
   ]
  },
  {
   "cell_type": "markdown",
   "id": "b02a4bb4-0fe9-42c6-afae-6f1b80867eeb",
   "metadata": {},
   "source": [
    "### Valores nulos"
   ]
  },
  {
   "cell_type": "markdown",
   "id": "ba8ef0f9-a3bf-41c8-893e-ac11bdb5b962",
   "metadata": {},
   "source": [
    "#### Colección listings"
   ]
  },
  {
   "cell_type": "code",
   "execution_count": 39,
   "id": "7381ae06-efe9-471e-bfe2-e672b8931c20",
   "metadata": {},
   "outputs": [
    {
     "data": {
      "text/plain": [
       "host_neighbourhood                              12192\n",
       "neighbourhood                                   11676\n",
       "neighborhood_overview                           11676\n",
       "host_about                                      10456\n",
       "host_location                                    5480\n",
       "                                                ...  \n",
       "calculated_host_listings_count_shared_rooms         0\n",
       "instant_bookable                                    0\n",
       "calculated_host_listings_count                      0\n",
       "calculated_host_listings_count_entire_homes         0\n",
       "calculated_host_listings_count_private_rooms        0\n",
       "Length: 77, dtype: int64"
      ]
     },
     "execution_count": 39,
     "metadata": {},
     "output_type": "execute_result"
    }
   ],
   "source": [
    "#Sumatoria de nulos\n",
    "df_listings.isna().sum().sort_values(ascending=False)"
   ]
  },
  {
   "cell_type": "code",
   "execution_count": 45,
   "id": "671e4e51-ffe3-41ed-bcd8-1982a574b67d",
   "metadata": {},
   "outputs": [
    {
     "data": {
      "text/plain": [
       "host_neighbourhood             46.771780\n",
       "neighbourhood                  44.792266\n",
       "neighborhood_overview          44.792266\n",
       "host_about                     40.112019\n",
       "host_location                  21.022749\n",
       "beds                           15.429470\n",
       "bathrooms                      15.364254\n",
       "price                          15.341236\n",
       "estimated_revenue_l365d        15.341236\n",
       "review_scores_value            12.513906\n",
       "review_scores_location         12.513906\n",
       "review_scores_checkin          12.513906\n",
       "review_scores_communication    12.513906\n",
       "review_scores_cleanliness      12.513906\n",
       "review_scores_accuracy         12.513906\n",
       "reviews_per_month              12.510070\n",
       "first_review                   12.510070\n",
       "review_scores_rating           12.510070\n",
       "last_review                    12.510070\n",
       "host_is_superhost               5.152108\n",
       "dtype: float64"
      ]
     },
     "execution_count": 45,
     "metadata": {},
     "output_type": "execute_result"
    }
   ],
   "source": [
    "#Porcentaje de nulos\n",
    "null_percentage = df_listings.isnull().mean().sort_values(ascending=False)*100\n",
    "null_percentage.head(20)"
   ]
  },
  {
   "cell_type": "code",
   "execution_count": 8,
   "id": "0fcd1705-212c-4ba7-8213-70c9a6e868ba",
   "metadata": {},
   "outputs": [
    {
     "name": "stdout",
     "output_type": "stream",
     "text": [
      "['description', 'neighborhood_overview', 'host_name', 'host_since', 'host_location', 'host_about', 'host_response_time', 'host_response_rate', 'host_acceptance_rate', 'host_is_superhost', 'host_thumbnail_url', 'host_picture_url', 'host_listings_count', 'host_total_listings_count', 'host_has_profile_pic', 'host_identity_verified', 'neighbourhood', 'bathrooms', 'bathrooms_text', 'bedrooms', 'beds', 'price', 'has_availability', 'estimated_revenue_l365d', 'host_neighbourhood', 'first_review', 'last_review', 'review_scores_rating', 'review_scores_accuracy', 'review_scores_cleanliness', 'review_scores_checkin', 'review_scores_communication', 'review_scores_location', 'review_scores_value', 'reviews_per_month']\n"
     ]
    }
   ],
   "source": [
    "#Revisar columnas específicas con valores nulos\n",
    "cols_con_nulos = df_listings.columns[df_listings.isnull().any()].tolist()\n",
    "print(cols_con_nulos)"
   ]
  },
  {
   "cell_type": "code",
   "execution_count": 10,
   "id": "24e24c80-e175-486f-b86f-f9345ad21da5",
   "metadata": {},
   "outputs": [
    {
     "data": {
      "image/png": "[encoded data removed]",
      "text/plain": [
       "<Figure size 640x480 with 1 Axes>"
      ]
     },
     "metadata": {},
     "output_type": "display_data"
    }
   ],
   "source": [
    "#Gráfica de nulos por columna\n",
    "sns.heatmap(df_listings.isna(), cbar = False, cmap = 'viridis')\n",
    "plt.title('Valores nulos')\n",
    "plt.show()"
   ]
  },
  {
   "cell_type": "code",
   "execution_count": 50,
   "id": "8b34e022-8585-4b41-97f8-a86caac07a90",
   "metadata": {},
   "outputs": [
    {
     "name": "stdout",
     "output_type": "stream",
     "text": [
      "Columnas a eliminar:\n",
      "Index([], dtype='object')\n"
     ]
    }
   ],
   "source": [
    "#Examinar columnas con posibilidad de ser eliminadas\n",
    "threshold = 0.5\n",
    "cols_to_drop = null_percentage[null_percentage > threshold*100].index\n",
    "\n",
    "print(\"Columnas a eliminar:\")\n",
    "print(cols_to_drop)"
   ]
  },
  {
   "cell_type": "markdown",
   "id": "b87309bf-de69-402b-903c-0d7f122819b9",
   "metadata": {},
   "source": [
    "Si bien existen muchas columnas con valores vacíos, ninguna sobrepasa el umbral. Razón por la cual no serán eliminados por presentar estos espacios, pero sí pueden serlo si posteriormente se analiza que no tienen valor alguno para responder las preguntas de negocio."
   ]
  },
  {
   "cell_type": "markdown",
   "id": "2432cab9-44cf-40e5-a79e-7deb27843ac9",
   "metadata": {},
   "source": [
    "#### Colección calendar"
   ]
  },
  {
   "cell_type": "code",
   "execution_count": 56,
   "id": "c904c423-9bc6-429b-8140-07b56a4b6891",
   "metadata": {},
   "outputs": [
    {
     "data": {
      "text/plain": [
       "_id                     0\n",
       "listing_id              0\n",
       "date                    0\n",
       "available               0\n",
       "price                   0\n",
       "minimum_nights          0\n",
       "maximum_nights          0\n",
       "adjusted_price    2371551\n",
       "dtype: int64"
      ]
     },
     "execution_count": 56,
     "metadata": {},
     "output_type": "execute_result"
    }
   ],
   "source": [
    "#Sumatoria de nulos\n",
    "df_calendar.isnull().sum()"
   ]
  },
  {
   "cell_type": "code",
   "execution_count": 57,
   "id": "27abcccb-8633-483b-8fce-bc025e14d464",
   "metadata": {},
   "outputs": [
    {
     "name": "stdout",
     "output_type": "stream",
     "text": [
      "_id                0.000000\n",
      "listing_id         0.000000\n",
      "date               0.000000\n",
      "available          0.000000\n",
      "price              0.000000\n",
      "minimum_nights     0.000000\n",
      "maximum_nights     0.000000\n",
      "adjusted_price    99.976982\n",
      "dtype: float64\n"
     ]
    }
   ],
   "source": [
    "#Porcentaje de nulos\n",
    "null_percentage = df_calendar.isnull().mean()*100\n",
    "print(null_percentage)"
   ]
  },
  {
   "cell_type": "code",
   "execution_count": 53,
   "id": "2b81520e-525c-4b8a-972c-e19e68e9691f",
   "metadata": {},
   "outputs": [
    {
     "data": {
      "image/png": "[encoded data removed]",
      "text/plain": [
       "<Figure size 640x480 with 1 Axes>"
      ]
     },
     "metadata": {},
     "output_type": "display_data"
    }
   ],
   "source": [
    "#Gráfica de nulos por columna\n",
    "sns.heatmap(df_calendar.isna(), cbar = False, cmap = 'viridis')\n",
    "plt.title('Valores nulos')\n",
    "plt.show()"
   ]
  },
  {
   "cell_type": "code",
   "execution_count": 58,
   "id": "a2a02651-0dd2-4b55-b338-01159f8053fa",
   "metadata": {},
   "outputs": [
    {
     "name": "stdout",
     "output_type": "stream",
     "text": [
      "Columnas a eliminar:\n",
      "Index(['adjusted_price'], dtype='object')\n"
     ]
    }
   ],
   "source": [
    "#Examinar columnas con posibilidad de ser eliminadas\n",
    "threshold = 0.5\n",
    "cols_to_drop = null_percentage[null_percentage > threshold*100].index\n",
    "\n",
    "print(\"Columnas a eliminar:\")\n",
    "print(cols_to_drop)"
   ]
  },
  {
   "cell_type": "markdown",
   "id": "e87595ee-e232-424e-9de2-f85303a07ccd",
   "metadata": {},
   "source": [
    "En este caso, resulta que sí hay una columna que debería ser eliminada (adjusted_price). Algo que vale la pena destacar es que es bastante probable que en el dataset completo existan un puñado de valores vacíos en algunas columnas, pero estos perfectamente pueden ser imputados si así se requiere."
   ]
  },
  {
   "cell_type": "markdown",
   "id": "c6df37d2-a1b5-4b21-871d-09864cca90ba",
   "metadata": {},
   "source": [
    "#### Colección reviews"
   ]
  },
  {
   "cell_type": "code",
   "execution_count": 14,
   "id": "bba383ce-a1df-46be-81b8-f5a32a4b7337",
   "metadata": {},
   "outputs": [
    {
     "data": {
      "text/plain": [
       "_id              0\n",
       "listing_id       0\n",
       "id               0\n",
       "date             0\n",
       "reviewer_id      0\n",
       "reviewer_name    6\n",
       "comments         0\n",
       "dtype: int64"
      ]
     },
     "execution_count": 14,
     "metadata": {},
     "output_type": "execute_result"
    }
   ],
   "source": [
    "#Sumatoria de nulos\n",
    "df_reviews.isnull().sum()"
   ]
  },
  {
   "cell_type": "code",
   "execution_count": 15,
   "id": "5a228d36-26ad-424f-8128-e91adaf09258",
   "metadata": {},
   "outputs": [
    {
     "data": {
      "text/plain": [
       "_id              0.000000\n",
       "listing_id       0.000000\n",
       "id               0.000000\n",
       "date             0.000000\n",
       "reviewer_id      0.000000\n",
       "reviewer_name    0.000456\n",
       "comments         0.000000\n",
       "dtype: float64"
      ]
     },
     "execution_count": 15,
     "metadata": {},
     "output_type": "execute_result"
    }
   ],
   "source": [
    "#Porcentaje de nulos\n",
    "df_reviews.isnull().mean()*100"
   ]
  },
  {
   "cell_type": "code",
   "execution_count": 16,
   "id": "14ede89e-3022-4580-9328-d1cec23efb03",
   "metadata": {},
   "outputs": [
    {
     "data": {
      "image/png": "[encoded data removed]",
      "text/plain": [
       "<Figure size 640x480 with 1 Axes>"
      ]
     },
     "metadata": {},
     "output_type": "display_data"
    }
   ],
   "source": [
    "#Gráfica de nulos por columna\n",
    "sns.heatmap(df_reviews.isna(), cbar = False, cmap = 'viridis')\n",
    "plt.title('Valores nulos')\n",
    "plt.show()"
   ]
  },
  {
   "cell_type": "markdown",
   "id": "07c2ba4a-ba0b-45d0-86d2-72ac083a9d55",
   "metadata": {},
   "source": [
    "En el caso de reviews, prácticamente no hay valores vacíos. Lo mínimo que sí hay, se puede imputar sin ningún problema."
   ]
  },
  {
   "cell_type": "markdown",
   "id": "ad47a6cd-d06a-4c6e-ba4c-98bb055762e9",
   "metadata": {},
   "source": [
    "### Valores duplicados"
   ]
  },
  {
   "cell_type": "code",
   "execution_count": 59,
   "id": "6b2cf42a-575f-4893-b613-781e9fde7a68",
   "metadata": {},
   "outputs": [
    {
     "name": "stdout",
     "output_type": "stream",
     "text": [
      "Registros duplicados de la colección listings: 0\n",
      "Registros duplicados de la colección calendar: 0\n",
      "Registros duplicados de la colección reviews: 0\n"
     ]
    }
   ],
   "source": [
    "#Colección listings\n",
    "bad_cols = [c for c in df_listings.columns\n",
    "            if df_listings[c].apply(lambda x: isinstance(x, (list, dict, set))).any()]\n",
    "\n",
    "good_cols = [c for c in df_listings.columns if c not in bad_cols]\n",
    "\n",
    "dupli_rows = df_listings[df_listings.duplicated(subset=good_cols)]\n",
    "print(f\"Registros duplicados de la colección listings: {dupli_rows.shape[0]}\")\n",
    "\n",
    "#Colección calendar\n",
    "dupli_rows = df_calendar[df_calendar.duplicated()] \n",
    "print(f\"Registros duplicados de la colección calendar: {dupli_rows.shape[0]}\")\n",
    "\n",
    "#Colección reviews\n",
    "dupli_rows = df_reviews[df_reviews.duplicated()] \n",
    "print(f\"Registros duplicados de la colección reviews: {dupli_rows.shape[0]}\")"
   ]
  },
  {
   "cell_type": "markdown",
   "id": "248b045c-d577-4e33-ae20-c8f278402685",
   "metadata": {},
   "source": [
    "Dado que en ninguna de las colecciones parece haber datos duplicados, no hay necesidad de hacer alguna operación en este sentido."
   ]
  },
  {
   "cell_type": "markdown",
   "id": "1ba42bc2-e8e7-46e3-baff-dd7e2235440e",
   "metadata": {},
   "source": [
    "### Posibles valores atípicos"
   ]
  },
  {
   "cell_type": "markdown",
   "id": "67ae9de6-ceeb-45a8-89f9-7e635d78dcf3",
   "metadata": {},
   "source": [
    "#### Limpieza y normalización de valores numéricos"
   ]
  },
  {
   "cell_type": "code",
   "execution_count": 71,
   "id": "d364c1f6-d40f-426c-8ab3-e31f4b23305c",
   "metadata": {},
   "outputs": [],
   "source": [
    "# calendar\n",
    "# Se utiliza el DataFrame filtrado por trimestre si existe (df_cal_q),\n",
    "# de lo contrario se usa el dataset completo (df_calendar).\n",
    "\n",
    "cal = df_cal_q if 'df_cal_q' in globals() else df_calendar\n",
    "cal = cal.copy()\n",
    "\n",
    "# Conversión de precios: de formato texto \"$1,234.00\" a número 1234.00\n",
    "if 'price' in cal.columns:\n",
    "    cal['price_num'] = (\n",
    "        cal['price'].astype(str)                    # asegura tipo texto\n",
    "        .str.replace(r'[\\$,]', '', regex=True)      # elimina $ y comas\n",
    "        .replace({'': np.nan})                      # reemplaza vacíos por NaN\n",
    "        .astype(float)                              # convierte a número decimal\n",
    "    )\n",
    "\n",
    "# Conversión de columnas numéricas que pueden venir como texto\n",
    "for c in ['minimum_nights', 'maximum_nights', 'listing_id']:\n",
    "    if c in cal.columns:\n",
    "        cal[c] = pd.to_numeric(cal[c], errors='coerce')  # fuerza conversión a número\n",
    "\n",
    "\n",
    "# listings\n",
    "# Copia del DataFrame original para evitar modificar el original\n",
    "lst = df_listings.copy()\n",
    "\n",
    "# Conversión de precios: de \"$10,000.00\" a 10000.00\n",
    "if 'price' in lst.columns:\n",
    "    lst['price_num'] = (\n",
    "        lst['price'].astype(str)\n",
    "        .str.replace(r'[\\$,]', '', regex=True)\n",
    "        .replace({'': np.nan})\n",
    "        .astype(float)\n",
    "    )\n",
    "\n",
    "# Conversión de variables numéricas relacionadas con capacidad y estructura\n",
    "for c in ['accommodates', 'bedrooms', 'bathrooms', 'beds', 'host_listings_count']:\n",
    "    if c in lst.columns:\n",
    "        lst[c] = pd.to_numeric(lst[c], errors='coerce')\n",
    "\n",
    "# Conversión de tasas de respuesta y aceptación del anfitrión\n",
    "# que vienen con el símbolo \"%\" (por ejemplo: \"85%\")\n",
    "for c in ['host_response_rate', 'host_acceptance_rate']:\n",
    "    if c in lst.columns:\n",
    "        lst[c + '_pct'] = (                        # crea nuevas columnas *_pct\n",
    "            lst[c].astype(str)\n",
    "            .str.replace('%', '', regex=False)      # elimina el símbolo %\n",
    "            .replace({'': np.nan, 'N/A': np.nan})   # reemplaza vacíos y 'N/A'\n",
    "            .astype(float)                          # convierte a número\n",
    "        )\n",
    "\n",
    "\n",
    "# reviews\n",
    "# Copia del DataFrame original de reseñas\n",
    "rev = df_reviews.copy()\n",
    "\n",
    "# Asegura que la columna de fecha tenga tipo datetime\n",
    "# (por ejemplo, si viene como texto o diccionario JSON)\n",
    "if 'date' in rev.columns and not np.issubdtype(rev['date'].dtype, np.datetime64):\n",
    "    rev['date'] = pd.to_datetime(rev['date'], errors='coerce')\n"
   ]
  },
  {
   "cell_type": "markdown",
   "id": "71cbc5d1-0661-4b1f-82eb-2b784b1a5cd1",
   "metadata": {},
   "source": [
    "#### Funciones para detección de datos atípicos"
   ]
  },
  {
   "cell_type": "code",
   "execution_count": 64,
   "id": "53875b50-aeeb-457b-b457-a92e33e98a30",
   "metadata": {},
   "outputs": [],
   "source": [
    "def numeric_cols(df, exclude=None):\n",
    "    # Devuelve una lista con las columnas numéricas de un DataFrame.\n",
    "\n",
    "    exclude = set(exclude or [])\n",
    "    return [\n",
    "        c for c in df.columns\n",
    "        if pd.api.types.is_numeric_dtype(df[c]) and c not in exclude\n",
    "    ]\n",
    "\n",
    "def outliers_iqr(df, cols, k=1.5):\n",
    "    \"\"\"\n",
    "    Detecta valores atípicos utilizando el método del rango intercuartílico (IQR).\n",
    "    Un valor se considera atípico si está por debajo de Q1 - k*IQR\n",
    "    o por encima de Q3 + k*IQR.\n",
    "    \"\"\"\n",
    "    flags = {}\n",
    "    for c in cols:\n",
    "        s = df[c].dropna()\n",
    "        # Si la columna está vacía, se marca todo como False\n",
    "        if s.empty:\n",
    "            flags[c] = pd.Series(False, index=df.index)\n",
    "            continue\n",
    "        # Cálculo de cuartiles y rango intercuartílico\n",
    "        q1, q3 = s.quantile(0.25), s.quantile(0.75)\n",
    "        iqr = q3 - q1\n",
    "        lo, hi = q1 - k * iqr, q3 + k * iqr\n",
    "        # Marca como True los valores fuera del rango [lo, hi]\n",
    "        flags[c] = (df[c] < lo) | (df[c] > hi)\n",
    "\n",
    "    return pd.DataFrame(flags, index=df.index)\n",
    "\n",
    "def outliers_iqr_by_group(df, cols, by, k=1.5):\n",
    "    \"\"\"\n",
    "    Detecta outliers usando IQR, pero calculando los límites por grupo.\n",
    "    Esto permite comparar los valores dentro de contextos similares\n",
    "    (por ejemplo, por barrio o tipo de habitación).\n",
    "    \"\"\"\n",
    "    flags = pd.DataFrame(False, index=df.index, columns=cols)\n",
    "\n",
    "    # Se calcula el IQR dentro de cada grupo definido por 'by'\n",
    "    for _, g in df.groupby(by, dropna=False):\n",
    "        q1 = g[cols].quantile(0.25)\n",
    "        q3 = g[cols].quantile(0.75)\n",
    "        iqr = q3 - q1\n",
    "        lo = q1 - k * iqr\n",
    "        hi = q3 + k * iqr\n",
    "        flags.loc[g.index, cols] = (g[cols] < lo) | (g[cols] > hi)\n",
    "\n",
    "    return flags\n",
    "\n",
    "def outliers_mad(df, cols, thresh=3.5):\n",
    "    \"\"\"\n",
    "    Detecta valores atípicos utilizando la Desviación Absoluta Mediana (MAD),\n",
    "    una alternativa robusta al z-score tradicional.\n",
    "    \"\"\"\n",
    "    flags = {}\n",
    "    for c in cols:\n",
    "        med = df[c].median()\n",
    "        mad = (df[c] - med).abs().median()\n",
    "\n",
    "        # Si la MAD es 0 o NaN, se asume que no hay variabilidad\n",
    "        if pd.isna(mad) or mad == 0:\n",
    "            flags[c] = pd.Series(False, index=df.index)\n",
    "        else:\n",
    "            z = 0.6745 * (df[c] - med) / mad\n",
    "            flags[c] = z.abs() > thresh\n",
    "\n",
    "    return pd.DataFrame(flags, index=df.index)\n",
    "\n",
    "def summarize_flags(flags_df, name='dataset'):\n",
    "    # Resume los resultados de detección de outliers mostrando:\n",
    "\n",
    "    perc = flags_df.mean().sort_values(ascending=False) * 100\n",
    "    print(f'== {name}: % de filas marcadas por columna ==')\n",
    "\n",
    "    if (perc > 0).any():\n",
    "        print(perc[perc > 0].round(3))\n",
    "    else:\n",
    "        print('No se marcaron outliers por este método.')\n",
    "\n",
    "    total_outliers = int(flags_df.any(axis=1).sum())\n",
    "    print('Total filas con alguna marca:', total_outliers)"
   ]
  },
  {
   "cell_type": "markdown",
   "id": "60f853e7-d8a8-4d50-83bb-396aed0b0c9c",
   "metadata": {},
   "source": [
    "#### Reglas de negocio para detección de valores atípicos"
   ]
  },
  {
   "cell_type": "code",
   "execution_count": 65,
   "id": "ef6182a9-f1e2-4ddb-8c78-393fafaba93a",
   "metadata": {},
   "outputs": [],
   "source": [
    "#calendar\n",
    "biz_cal = pd.DataFrame(index=cal.index)\n",
    "\n",
    "# Reglas sobre el precio diario\n",
    "# - price_neg: precios negativos (error)\n",
    "# - price_zero: precios en cero (posible dato faltante)\n",
    "# - price_gt_5000: precios muy altos, fuera del rango esperado del mercado\n",
    "if 'price_num' in cal.columns:\n",
    "    biz_cal['price_neg'] = cal['price_num'] < 0\n",
    "    biz_cal['price_zero'] = cal['price_num'] == 0\n",
    "    biz_cal['price_gt_5000'] = cal['price_num'] > 5000  # umbral ajustable según la ciudad o país\n",
    "\n",
    "# Reglas sobre noches mínimas y máximas de reserva\n",
    "# - *_neg: valores negativos no tienen sentido\n",
    "# - *_gt_365: valores mayores a 365 días (poco realistas en Airbnb)\n",
    "for c in ['minimum_nights', 'maximum_nights']:\n",
    "    if c in cal.columns:\n",
    "        biz_cal[f'{c}_neg'] = cal[c] < 0\n",
    "        biz_cal[f'{c}_gt_365'] = cal[c] > 365\n",
    "\n",
    "\n",
    "#listings\n",
    "biz_lst = pd.DataFrame(index=lst.index)\n",
    "\n",
    "# Reglas sobre capacidad y estructura\n",
    "# - accomm_le0: capacidad menor o igual a 0 → inválida\n",
    "# - accomm_gt30: capacidad muy alta (casas enormes o error)\n",
    "if 'accommodates' in lst.columns:\n",
    "    biz_lst['accomm_le0'] = lst['accommodates'] <= 0\n",
    "    biz_lst['accomm_gt30'] = lst['accommodates'] > 30\n",
    "\n",
    "# Reglas para número de habitaciones, baños y camas\n",
    "# - *_neg: valores negativos imposibles\n",
    "# - *_gt20: valores excesivos para un alojamiento típico\n",
    "for c in ['bedrooms', 'bathrooms', 'beds']:\n",
    "    if c in lst.columns:\n",
    "        biz_lst[f'{c}_neg'] = lst[c] < 0\n",
    "        biz_lst[f'{c}_gt20'] = lst[c] > 20\n",
    "\n",
    "# Reglas para calificaciones (review_scores)\n",
    "# - Los puntajes deben estar entre 0 y 5\n",
    "for c in [col for col in lst.columns if col.startswith('review_scores_')]:\n",
    "    if pd.api.types.is_numeric_dtype(lst[c]):\n",
    "        biz_lst[f'{c}_out'] = ~lst[c].between(0, 5, inclusive='both')\n",
    "\n",
    "# Reglas para tasas del anfitrión (%)\n",
    "# - Deben estar entre 0 y 100\n",
    "for c in ['host_response_rate_pct', 'host_acceptance_rate_pct']:\n",
    "    if c in lst.columns:\n",
    "        biz_lst[f'{c}_out'] = ~lst[c].between(0, 100, inclusive='both')\n",
    "\n",
    "# Reglas para coordenadas geográficas\n",
    "# - Latitud debe estar entre -90 y 90\n",
    "# - Longitud debe estar entre -180 y 180\n",
    "if 'latitude' in lst.columns:\n",
    "    biz_lst['lat_out'] = ~lst['latitude'].between(-90, 90)\n",
    "if 'longitude' in lst.columns:\n",
    "    biz_lst['lon_out'] = ~lst['longitude'].between(-180, 180)\n",
    "\n",
    "\n",
    "#reviews\n",
    "biz_rev = pd.DataFrame(index=rev.index)\n",
    "\n",
    "# Reglas sobre duplicidad e integridad temporal\n",
    "# - dup_id: IDs de reseña duplicados (posible duplicado en carga)\n",
    "# - date_null: fechas nulas o sin registrar\n",
    "if 'id' in rev.columns:\n",
    "    biz_rev['dup_id'] = rev['id'].duplicated(keep=False)\n",
    "if 'date' in rev.columns:\n",
    "    biz_rev['date_null'] = rev['date'].isna()"
   ]
  },
  {
   "cell_type": "markdown",
   "id": "9c203440-a62f-4cbb-9068-d47dc4fdb6a9",
   "metadata": {},
   "source": [
    "##### Detección de atípicos en calendar"
   ]
  },
  {
   "cell_type": "code",
   "execution_count": 66,
   "id": "dc0d2580-7d90-4cfa-9771-ce1a6c2b879e",
   "metadata": {},
   "outputs": [
    {
     "name": "stdout",
     "output_type": "stream",
     "text": [
      "== calendar_IQR: % de filas marcadas por columna ==\n",
      "minimum_nights    13.159\n",
      "price_num          6.913\n",
      "maximum_nights     0.046\n",
      "dtype: float64\n",
      "Total filas con alguna marca: 459324\n",
      "== calendar_MAD: % de filas marcadas por columna ==\n",
      "maximum_nights    16.731\n",
      "price_num          5.528\n",
      "minimum_nights     4.825\n",
      "dtype: float64\n",
      "Total filas con alguna marca: 590830\n",
      "== calendar_RULES: % de filas marcadas por columna ==\n",
      "maximum_nights_gt_365    52.120\n",
      "price_gt_5000             2.325\n",
      "minimum_nights_gt_365     0.031\n",
      "price_zero                0.012\n",
      "dtype: float64\n",
      "Total filas con alguna marca: 1268548\n"
     ]
    },
    {
     "data": {
      "text/html": [
       "<div>\n",
       "<style scoped>\n",
       "    .dataframe tbody tr th:only-of-type {\n",
       "        vertical-align: middle;\n",
       "    }\n",
       "\n",
       "    .dataframe tbody tr th {\n",
       "        vertical-align: top;\n",
       "    }\n",
       "\n",
       "    .dataframe thead th {\n",
       "        text-align: right;\n",
       "    }\n",
       "</style>\n",
       "<table border=\"1\" class=\"dataframe\">\n",
       "  <thead>\n",
       "    <tr style=\"text-align: right;\">\n",
       "      <th></th>\n",
       "      <th>_id</th>\n",
       "      <th>listing_id</th>\n",
       "      <th>date</th>\n",
       "      <th>available</th>\n",
       "      <th>price</th>\n",
       "      <th>minimum_nights</th>\n",
       "      <th>maximum_nights</th>\n",
       "      <th>adjusted_price</th>\n",
       "      <th>price_num</th>\n",
       "    </tr>\n",
       "  </thead>\n",
       "  <tbody>\n",
       "    <tr>\n",
       "      <th>12</th>\n",
       "      <td>68ba3ad4c2b559caebfeba2a</td>\n",
       "      <td>287940</td>\n",
       "      <td>2025-04-01</td>\n",
       "      <td>False</td>\n",
       "      <td>$50.00</td>\n",
       "      <td>1.0</td>\n",
       "      <td>1125.0</td>\n",
       "      <td>NaN</td>\n",
       "      <td>50.0</td>\n",
       "    </tr>\n",
       "    <tr>\n",
       "      <th>13</th>\n",
       "      <td>68ba3ad4c2b559caebfeba2b</td>\n",
       "      <td>287940</td>\n",
       "      <td>2025-04-02</td>\n",
       "      <td>False</td>\n",
       "      <td>$50.00</td>\n",
       "      <td>1.0</td>\n",
       "      <td>1125.0</td>\n",
       "      <td>NaN</td>\n",
       "      <td>50.0</td>\n",
       "    </tr>\n",
       "    <tr>\n",
       "      <th>14</th>\n",
       "      <td>68ba3ad4c2b559caebfeba2c</td>\n",
       "      <td>287940</td>\n",
       "      <td>2025-04-03</td>\n",
       "      <td>True</td>\n",
       "      <td>$50.00</td>\n",
       "      <td>1.0</td>\n",
       "      <td>1125.0</td>\n",
       "      <td>NaN</td>\n",
       "      <td>50.0</td>\n",
       "    </tr>\n",
       "    <tr>\n",
       "      <th>15</th>\n",
       "      <td>68ba3ad4c2b559caebfeba2d</td>\n",
       "      <td>287940</td>\n",
       "      <td>2025-04-04</td>\n",
       "      <td>True</td>\n",
       "      <td>$50.00</td>\n",
       "      <td>1.0</td>\n",
       "      <td>1125.0</td>\n",
       "      <td>NaN</td>\n",
       "      <td>50.0</td>\n",
       "    </tr>\n",
       "    <tr>\n",
       "      <th>16</th>\n",
       "      <td>68ba3ad4c2b559caebfeba2e</td>\n",
       "      <td>287940</td>\n",
       "      <td>2025-04-05</td>\n",
       "      <td>False</td>\n",
       "      <td>$50.00</td>\n",
       "      <td>1.0</td>\n",
       "      <td>1125.0</td>\n",
       "      <td>NaN</td>\n",
       "      <td>50.0</td>\n",
       "    </tr>\n",
       "  </tbody>\n",
       "</table>\n",
       "</div>"
      ],
      "text/plain": [
       "                         _id  listing_id       date  available   price  \\\n",
       "12  68ba3ad4c2b559caebfeba2a      287940 2025-04-01      False  $50.00   \n",
       "13  68ba3ad4c2b559caebfeba2b      287940 2025-04-02      False  $50.00   \n",
       "14  68ba3ad4c2b559caebfeba2c      287940 2025-04-03       True  $50.00   \n",
       "15  68ba3ad4c2b559caebfeba2d      287940 2025-04-04       True  $50.00   \n",
       "16  68ba3ad4c2b559caebfeba2e      287940 2025-04-05      False  $50.00   \n",
       "\n",
       "    minimum_nights  maximum_nights adjusted_price  price_num  \n",
       "12             1.0          1125.0            NaN       50.0  \n",
       "13             1.0          1125.0            NaN       50.0  \n",
       "14             1.0          1125.0            NaN       50.0  \n",
       "15             1.0          1125.0            NaN       50.0  \n",
       "16             1.0          1125.0            NaN       50.0  "
      ]
     },
     "execution_count": 66,
     "metadata": {},
     "output_type": "execute_result"
    }
   ],
   "source": [
    "# 1) Columnas a evaluar (solo se incluyen si existen en el DataFrame)\n",
    "cols_cal = [c for c in ['price_num', 'minimum_nights', 'maximum_nights'] if c in cal.columns]\n",
    "\n",
    "# 2) Flags de outliers estadísticos\n",
    "#    - IQR: marca valores fuera de [Q1 - 1.5*IQR, Q3 + 1.5*IQR]\n",
    "flags_cal_iqr = outliers_iqr(cal, cols_cal, k=1.5)\n",
    "\n",
    "#    - MAD: z-score robusto; marca valores con |z| > 3.5 (umbral por defecto)\n",
    "flags_cal_mad = outliers_mad(cal, cols_cal, thresh=3.5)\n",
    "\n",
    "# 3) Resumen de resultados (porcentaje de filas marcadas por columna)\n",
    "#    Esto imprime en consola un pequeño reporte para cada método.\n",
    "summarize_flags(flags_cal_iqr, 'calendar_IQR')\n",
    "summarize_flags(flags_cal_mad, 'calendar_MAD')\n",
    "\n",
    "#    Reglas de negocio (ya construidas en biz_cal) — precios negativos/cero, noches > 365, etc.\n",
    "summarize_flags(biz_cal, 'calendar_RULES')\n",
    "\n",
    "# 4) Subconjunto de filas sospechosas:\n",
    "#    Incluye cualquier fila marcada por IQR, MAD o reglas de negocio.\n",
    "sus_cal = cal[\n",
    "    flags_cal_iqr.any(axis=1) |     # alguna columna marcada por IQR\n",
    "    flags_cal_mad.any(axis=1) |     # alguna columna marcada por MAD\n",
    "    biz_cal.any(axis=1)             # alguna regla de negocio activada\n",
    "].copy()\n",
    "\n",
    "# 5) Vista rápida (primeras filas) para inspección manual\n",
    "sus_cal.head()"
   ]
  },
  {
   "cell_type": "markdown",
   "id": "ddffee14-0b5a-466b-940d-4b60674fba6c",
   "metadata": {},
   "source": [
    "#### Detección de atípicos en listings"
   ]
  },
  {
   "cell_type": "code",
   "execution_count": 69,
   "id": "0a1c74b7-2c54-4206-ab56-c5644cc1042b",
   "metadata": {},
   "outputs": [
    {
     "name": "stdout",
     "output_type": "stream",
     "text": [
      "== listings_IQR: % de filas marcadas por columna ==\n",
      "host_response_rate_pct         16.661\n",
      "host_acceptance_rate_pct       13.964\n",
      "accommodates                   10.274\n",
      "number_of_reviews               8.298\n",
      "bathrooms                       7.749\n",
      "price_num                       6.671\n",
      "review_scores_communication     6.552\n",
      "beds                            6.288\n",
      "number_of_reviews_l30d          6.061\n",
      "review_scores_value             5.977\n",
      "review_scores_checkin           5.785\n",
      "review_scores_accuracy          5.751\n",
      "review_scores_location          5.739\n",
      "review_scores_cleanliness       5.547\n",
      "review_scores_rating            5.486\n",
      "estimated_revenue_l365d         5.352\n",
      "bedrooms                        5.198\n",
      "reviews_per_month               4.013\n",
      "estimated_occupancy_l365d       2.371\n",
      "availability_90                 1.139\n",
      "availability_60                 0.307\n",
      "availability_365                0.157\n",
      "availability_30                 0.042\n",
      "dtype: float64\n",
      "Total filas con alguna marca: 15487\n",
      "== listings_MAD: % de filas marcadas por columna ==\n",
      "host_acceptance_rate_pct       22.227\n",
      "number_of_reviews              12.472\n",
      "estimated_revenue_l365d         8.152\n",
      "review_scores_communication     7.032\n",
      "review_scores_location          6.034\n",
      "price_num                       5.781\n",
      "review_scores_checkin           5.720\n",
      "accommodates                    4.995\n",
      "review_scores_cleanliness       4.788\n",
      "review_scores_accuracy          4.669\n",
      "review_scores_rating            4.573\n",
      "review_scores_value             4.538\n",
      "reviews_per_month               2.593\n",
      "beds                            1.630\n",
      "dtype: float64\n",
      "Total filas con alguna marca: 13785\n",
      "== listings_RULES: % de filas marcadas por columna ==\n",
      "host_response_rate_pct_out         13.442\n",
      "review_scores_accuracy_out         12.514\n",
      "review_scores_checkin_out          12.514\n",
      "review_scores_communication_out    12.514\n",
      "review_scores_location_out         12.514\n",
      "review_scores_value_out            12.514\n",
      "review_scores_cleanliness_out      12.514\n",
      "review_scores_rating_out           12.510\n",
      "host_acceptance_rate_pct_out       10.508\n",
      "beds_gt20                           0.081\n",
      "bedrooms_gt20                       0.042\n",
      "bathrooms_gt20                      0.012\n",
      "dtype: float64\n",
      "Total filas con alguna marca: 5715\n"
     ]
    },
    {
     "data": {
      "text/html": [
       "<div>\n",
       "<style scoped>\n",
       "    .dataframe tbody tr th:only-of-type {\n",
       "        vertical-align: middle;\n",
       "    }\n",
       "\n",
       "    .dataframe tbody tr th {\n",
       "        vertical-align: top;\n",
       "    }\n",
       "\n",
       "    .dataframe thead th {\n",
       "        text-align: right;\n",
       "    }\n",
       "</style>\n",
       "<table border=\"1\" class=\"dataframe\">\n",
       "  <thead>\n",
       "    <tr style=\"text-align: right;\">\n",
       "      <th></th>\n",
       "      <th>_id</th>\n",
       "      <th>id</th>\n",
       "      <th>listing_url</th>\n",
       "      <th>scrape_id</th>\n",
       "      <th>last_scraped</th>\n",
       "      <th>source</th>\n",
       "      <th>name</th>\n",
       "      <th>description</th>\n",
       "      <th>neighborhood_overview</th>\n",
       "      <th>picture_url</th>\n",
       "      <th>...</th>\n",
       "      <th>review_scores_accuracy</th>\n",
       "      <th>review_scores_cleanliness</th>\n",
       "      <th>review_scores_checkin</th>\n",
       "      <th>review_scores_communication</th>\n",
       "      <th>review_scores_location</th>\n",
       "      <th>review_scores_value</th>\n",
       "      <th>reviews_per_month</th>\n",
       "      <th>price_num</th>\n",
       "      <th>host_response_rate_pct</th>\n",
       "      <th>host_acceptance_rate_pct</th>\n",
       "    </tr>\n",
       "  </thead>\n",
       "  <tbody>\n",
       "    <tr>\n",
       "      <th>0</th>\n",
       "      <td>68b1b29599c73fe63e06d79b</td>\n",
       "      <td>35797</td>\n",
       "      <td>https://www.airbnb.com/rooms/35797</td>\n",
       "      <td>20250319150644</td>\n",
       "      <td>2025-03-21</td>\n",
       "      <td>city scrape</td>\n",
       "      <td>Villa Dante</td>\n",
       "      <td>Dentro de Villa un estudio de arte con futon, ...</td>\n",
       "      <td>Santa Fe Shopping Mall, Interlomas Park and th...</td>\n",
       "      <td>https://a0.muscache.com/pictures/f395ab78-1185...</td>\n",
       "      <td>...</td>\n",
       "      <td>NaN</td>\n",
       "      <td>NaN</td>\n",
       "      <td>NaN</td>\n",
       "      <td>NaN</td>\n",
       "      <td>NaN</td>\n",
       "      <td>NaN</td>\n",
       "      <td>NaN</td>\n",
       "      <td>3982.0</td>\n",
       "      <td>NaN</td>\n",
       "      <td>NaN</td>\n",
       "    </tr>\n",
       "    <tr>\n",
       "      <th>1</th>\n",
       "      <td>68b1b29599c73fe63e06d79c</td>\n",
       "      <td>44616</td>\n",
       "      <td>https://www.airbnb.com/rooms/44616</td>\n",
       "      <td>20250319150644</td>\n",
       "      <td>2025-03-20</td>\n",
       "      <td>previous scrape</td>\n",
       "      <td>Condesa Haus</td>\n",
       "      <td>A new concept of hosting in mexico through a b...</td>\n",
       "      <td>NaN</td>\n",
       "      <td>https://a0.muscache.com/pictures/251410/ec75fe...</td>\n",
       "      <td>...</td>\n",
       "      <td>4.56</td>\n",
       "      <td>4.70</td>\n",
       "      <td>4.87</td>\n",
       "      <td>4.78</td>\n",
       "      <td>4.98</td>\n",
       "      <td>4.47</td>\n",
       "      <td>0.40</td>\n",
       "      <td>NaN</td>\n",
       "      <td>100.0</td>\n",
       "      <td>90.0</td>\n",
       "    </tr>\n",
       "    <tr>\n",
       "      <th>2</th>\n",
       "      <td>68b1b29599c73fe63e06d79d</td>\n",
       "      <td>56074</td>\n",
       "      <td>https://www.airbnb.com/rooms/56074</td>\n",
       "      <td>20250319150644</td>\n",
       "      <td>2025-03-20</td>\n",
       "      <td>city scrape</td>\n",
       "      <td>Great space in historical San Rafael</td>\n",
       "      <td>This great apartment is located in one of the ...</td>\n",
       "      <td>Very traditional neighborhood with all service...</td>\n",
       "      <td>https://a0.muscache.com/pictures/3005118/60dac...</td>\n",
       "      <td>...</td>\n",
       "      <td>4.95</td>\n",
       "      <td>4.88</td>\n",
       "      <td>4.98</td>\n",
       "      <td>4.94</td>\n",
       "      <td>4.76</td>\n",
       "      <td>4.79</td>\n",
       "      <td>0.49</td>\n",
       "      <td>585.0</td>\n",
       "      <td>88.0</td>\n",
       "      <td>100.0</td>\n",
       "    </tr>\n",
       "    <tr>\n",
       "      <th>3</th>\n",
       "      <td>68b1b29599c73fe63e06d79e</td>\n",
       "      <td>67703</td>\n",
       "      <td>https://www.airbnb.com/rooms/67703</td>\n",
       "      <td>20250319150644</td>\n",
       "      <td>2025-03-20</td>\n",
       "      <td>previous scrape</td>\n",
       "      <td>2 bedroom apt. deco bldg, Condesa</td>\n",
       "      <td>Comfortably furnished, sunny, 2 bedroom apt., ...</td>\n",
       "      <td>NaN</td>\n",
       "      <td>https://a0.muscache.com/pictures/3281720/6f078...</td>\n",
       "      <td>...</td>\n",
       "      <td>4.82</td>\n",
       "      <td>4.76</td>\n",
       "      <td>4.94</td>\n",
       "      <td>4.92</td>\n",
       "      <td>4.98</td>\n",
       "      <td>4.92</td>\n",
       "      <td>0.31</td>\n",
       "      <td>NaN</td>\n",
       "      <td>100.0</td>\n",
       "      <td>47.0</td>\n",
       "    </tr>\n",
       "    <tr>\n",
       "      <th>4</th>\n",
       "      <td>68b1b29599c73fe63e06d79f</td>\n",
       "      <td>70644</td>\n",
       "      <td>https://www.airbnb.com/rooms/70644</td>\n",
       "      <td>20250319150644</td>\n",
       "      <td>2025-03-22</td>\n",
       "      <td>city scrape</td>\n",
       "      <td>Beautiful light Studio Coyoacan- full equipped !</td>\n",
       "      <td>COYOACAN designer studio quiet &amp; safe! well eq...</td>\n",
       "      <td>Coyoacan is a beautiful neighborhood famous fo...</td>\n",
       "      <td>https://a0.muscache.com/pictures/f397d2da-d045...</td>\n",
       "      <td>...</td>\n",
       "      <td>4.91</td>\n",
       "      <td>4.96</td>\n",
       "      <td>4.96</td>\n",
       "      <td>4.98</td>\n",
       "      <td>4.96</td>\n",
       "      <td>4.92</td>\n",
       "      <td>0.83</td>\n",
       "      <td>1015.0</td>\n",
       "      <td>100.0</td>\n",
       "      <td>93.0</td>\n",
       "    </tr>\n",
       "  </tbody>\n",
       "</table>\n",
       "<p>5 rows × 80 columns</p>\n",
       "</div>"
      ],
      "text/plain": [
       "                        _id     id                         listing_url  \\\n",
       "0  68b1b29599c73fe63e06d79b  35797  https://www.airbnb.com/rooms/35797   \n",
       "1  68b1b29599c73fe63e06d79c  44616  https://www.airbnb.com/rooms/44616   \n",
       "2  68b1b29599c73fe63e06d79d  56074  https://www.airbnb.com/rooms/56074   \n",
       "3  68b1b29599c73fe63e06d79e  67703  https://www.airbnb.com/rooms/67703   \n",
       "4  68b1b29599c73fe63e06d79f  70644  https://www.airbnb.com/rooms/70644   \n",
       "\n",
       "        scrape_id last_scraped           source  \\\n",
       "0  20250319150644   2025-03-21      city scrape   \n",
       "1  20250319150644   2025-03-20  previous scrape   \n",
       "2  20250319150644   2025-03-20      city scrape   \n",
       "3  20250319150644   2025-03-20  previous scrape   \n",
       "4  20250319150644   2025-03-22      city scrape   \n",
       "\n",
       "                                               name  \\\n",
       "0                                       Villa Dante   \n",
       "1                                      Condesa Haus   \n",
       "2              Great space in historical San Rafael   \n",
       "3                 2 bedroom apt. deco bldg, Condesa   \n",
       "4  Beautiful light Studio Coyoacan- full equipped !   \n",
       "\n",
       "                                         description  \\\n",
       "0  Dentro de Villa un estudio de arte con futon, ...   \n",
       "1  A new concept of hosting in mexico through a b...   \n",
       "2  This great apartment is located in one of the ...   \n",
       "3  Comfortably furnished, sunny, 2 bedroom apt., ...   \n",
       "4  COYOACAN designer studio quiet & safe! well eq...   \n",
       "\n",
       "                               neighborhood_overview  \\\n",
       "0  Santa Fe Shopping Mall, Interlomas Park and th...   \n",
       "1                                                NaN   \n",
       "2  Very traditional neighborhood with all service...   \n",
       "3                                                NaN   \n",
       "4  Coyoacan is a beautiful neighborhood famous fo...   \n",
       "\n",
       "                                         picture_url  ...  \\\n",
       "0  https://a0.muscache.com/pictures/f395ab78-1185...  ...   \n",
       "1  https://a0.muscache.com/pictures/251410/ec75fe...  ...   \n",
       "2  https://a0.muscache.com/pictures/3005118/60dac...  ...   \n",
       "3  https://a0.muscache.com/pictures/3281720/6f078...  ...   \n",
       "4  https://a0.muscache.com/pictures/f397d2da-d045...  ...   \n",
       "\n",
       "   review_scores_accuracy review_scores_cleanliness review_scores_checkin  \\\n",
       "0                     NaN                       NaN                   NaN   \n",
       "1                    4.56                      4.70                  4.87   \n",
       "2                    4.95                      4.88                  4.98   \n",
       "3                    4.82                      4.76                  4.94   \n",
       "4                    4.91                      4.96                  4.96   \n",
       "\n",
       "  review_scores_communication review_scores_location review_scores_value  \\\n",
       "0                         NaN                    NaN                 NaN   \n",
       "1                        4.78                   4.98                4.47   \n",
       "2                        4.94                   4.76                4.79   \n",
       "3                        4.92                   4.98                4.92   \n",
       "4                        4.98                   4.96                4.92   \n",
       "\n",
       "  reviews_per_month price_num host_response_rate_pct host_acceptance_rate_pct  \n",
       "0               NaN    3982.0                    NaN                      NaN  \n",
       "1              0.40       NaN                  100.0                     90.0  \n",
       "2              0.49     585.0                   88.0                    100.0  \n",
       "3              0.31       NaN                  100.0                     47.0  \n",
       "4              0.83    1015.0                  100.0                     93.0  \n",
       "\n",
       "[5 rows x 80 columns]"
      ]
     },
     "execution_count": 69,
     "metadata": {},
     "output_type": "execute_result"
    }
   ],
   "source": [
    "# 1) Selección de columnas relevantes\n",
    "cols_lst = [c for c in [\n",
    "    # --- Precio y capacidad ---\n",
    "    'price_num', 'accommodates', 'bedrooms', 'bathrooms', 'beds',\n",
    "    # --- Calificaciones ---\n",
    "    'review_scores_rating', 'review_scores_accuracy', 'review_scores_cleanliness',\n",
    "    'review_scores_checkin', 'review_scores_communication',\n",
    "    'review_scores_location', 'review_scores_value',\n",
    "    # --- Métricas del anfitrión ---\n",
    "    'host_response_rate_pct', 'host_acceptance_rate_pct',\n",
    "    # --- Reseñas y disponibilidad ---\n",
    "    'reviews_per_month', 'number_of_reviews', 'number_of_reviews_l30d',\n",
    "    'estimated_occupancy_l365d', 'estimated_revenue_l365d',\n",
    "    'availability_365', 'availability_90', 'availability_60', 'availability_30'\n",
    "] if c in lst.columns]\n",
    "\n",
    "\n",
    "# 2) Detección de outliers por IQR (rango intercuartílico)\n",
    "by_cols = [c for c in ['neighbourhood_cleansed', 'room_type'] if c in lst.columns]\n",
    "\n",
    "if by_cols:\n",
    "    # --- IQR agrupado por contexto ---\n",
    "    flags_lst_iqr = outliers_iqr_by_group(lst, cols_lst, by=by_cols, k=1.5)\n",
    "else:\n",
    "    # --- IQR global ---\n",
    "    flags_lst_iqr = outliers_iqr(lst, cols_lst, k=1.5)\n",
    "\n",
    "\n",
    "# 3) Detección de outliers por MAD (método robusto)\n",
    "flags_lst_mad = outliers_mad(lst, cols_lst, thresh=3.5)\n",
    "\n",
    "\n",
    "# 4) Resumen de resultados\n",
    "summarize_flags(flags_lst_iqr, 'listings_IQR')\n",
    "summarize_flags(flags_lst_mad, 'listings_MAD')\n",
    "summarize_flags(biz_lst, 'listings_RULES')\n",
    "\n",
    "\n",
    "# 5) Construcción del subconjunto de registros sospechosos\n",
    "sus_lst = lst[\n",
    "    flags_lst_iqr.any(axis=1) |    # al menos un outlier por IQR\n",
    "    flags_lst_mad.any(axis=1) |    # al menos un outlier por MAD\n",
    "    biz_lst.any(axis=1)            # al menos una regla de negocio incumplida\n",
    "].copy()\n",
    "\n",
    "# 6) Vista preliminar de los resultados\n",
    "sus_lst.head()"
   ]
  },
  {
   "cell_type": "markdown",
   "id": "1bab5d4e-3e55-4148-8e77-09b9ca75e8b2",
   "metadata": {},
   "source": [
    "#### Detección de atípicos en reviews"
   ]
  },
  {
   "cell_type": "code",
   "execution_count": 68,
   "id": "9d6ae8b5-7347-49eb-ad4e-9bdfedb0dad2",
   "metadata": {},
   "outputs": [
    {
     "name": "stdout",
     "output_type": "stream",
     "text": [
      "== reviews_RULES: % de filas marcadas por columna ==\n",
      "No se marcaron outliers por este método.\n",
      "Total filas con alguna marca: 0\n"
     ]
    },
    {
     "data": {
      "text/html": [
       "<div>\n",
       "<style scoped>\n",
       "    .dataframe tbody tr th:only-of-type {\n",
       "        vertical-align: middle;\n",
       "    }\n",
       "\n",
       "    .dataframe tbody tr th {\n",
       "        vertical-align: top;\n",
       "    }\n",
       "\n",
       "    .dataframe thead th {\n",
       "        text-align: right;\n",
       "    }\n",
       "</style>\n",
       "<table border=\"1\" class=\"dataframe\">\n",
       "  <thead>\n",
       "    <tr style=\"text-align: right;\">\n",
       "      <th></th>\n",
       "      <th>_id</th>\n",
       "      <th>listing_id</th>\n",
       "      <th>id</th>\n",
       "      <th>date</th>\n",
       "      <th>reviewer_id</th>\n",
       "      <th>reviewer_name</th>\n",
       "      <th>comments</th>\n",
       "    </tr>\n",
       "  </thead>\n",
       "  <tbody>\n",
       "  </tbody>\n",
       "</table>\n",
       "</div>"
      ],
      "text/plain": [
       "Empty DataFrame\n",
       "Columns: [_id, listing_id, id, date, reviewer_id, reviewer_name, comments]\n",
       "Index: []"
      ]
     },
     "execution_count": 68,
     "metadata": {},
     "output_type": "execute_result"
    }
   ],
   "source": [
    "# 1) Resumen de las reglas de negocio aplicadas\n",
    "summarize_flags(biz_rev, 'reviews_RULES')\n",
    "\n",
    "# 2) Subconjunto de registros sospechosos\n",
    "sus_rev = rev[biz_rev.any(axis=1)].copy()\n",
    "\n",
    "# 3) Vista rápida de los registros detectados\n",
    "sus_rev.head()"
   ]
  },
  {
   "cell_type": "markdown",
   "id": "956c39e4-0d74-48ea-9aab-cd6d86349538",
   "metadata": {},
   "source": [
    "#### Colección listings"
   ]
  },
  {
   "cell_type": "markdown",
   "id": "203ae6b2-59d0-4f22-9ffe-2ebdc754488f",
   "metadata": {},
   "source": [
    "Antes de poder buscar valores atípicos, primero se deben limpiar algunos campos numéricos. Los cuales no están en un formato correcto y tienen caracteres que no deberían."
   ]
  },
  {
   "cell_type": "code",
   "execution_count": 60,
   "id": "e500e7fb-97d0-4365-8f1d-4306775b1cd2",
   "metadata": {},
   "outputs": [],
   "source": [
    "#Copiar el dataset de listings para hacer las cambios \n",
    "df_listings_copy = df_listings.copy()"
   ]
  },
  {
   "cell_type": "code",
   "execution_count": 61,
   "id": "740493f7-01fb-420c-8069-6cf9a4d9da8f",
   "metadata": {},
   "outputs": [],
   "source": [
    "#Cambiar columna price a tipo float\n",
    "df_listings_copy['price'] = (df_listings_copy['price'].astype(str)\n",
    "                   .str.replace(r'[^0-9.\\-]', '', regex=True)\n",
    "                   .replace('', np.nan).astype(float))\n",
    "\n",
    "#Cambiar columnas host_response_rate y host_acceptance_rate a tipo float\n",
    "df_listings_copy[\"host_response_rate\"] = (\n",
    "    df_listings_copy[\"host_response_rate\"]\n",
    "    .replace(\"N/A\", None)              # Cambiar \"N/A\" a None\n",
    "    .str.replace(\"%\", \"\", regex=False) # Quitar el símbolo %\n",
    "    .astype(float)                     # Convertir a float\n",
    ")\n",
    "\n",
    "df_listings_copy[\"host_acceptance_rate\"] = (\n",
    "    df_listings_copy[\"host_acceptance_rate\"]\n",
    "    .replace(\"N/A\", None)\n",
    "    .str.replace(\"%\", \"\", regex=False)\n",
    "    .astype(float)\n",
    ")"
   ]
  },
  {
   "cell_type": "code",
   "execution_count": 70,
   "id": "e5362ace-0298-4551-906b-82614b6b14ba",
   "metadata": {},
   "outputs": [
    {
     "data": {
      "image/png": "[encoded data removed]",
      "text/plain": [
       "<Figure size 640x480 with 1 Axes>"
      ]
     },
     "metadata": {},
     "output_type": "display_data"
    }
   ],
   "source": [
    "#Boxplot precio\n",
    "df_listings_copy.boxplot(column='price')\n",
    "plt.show()"
   ]
  },
  {
   "cell_type": "code",
   "execution_count": null,
   "id": "e82cd913-ef7b-4065-8180-3671fc06658c",
   "metadata": {},
   "outputs": [],
   "source": [
    "#Revisar el valor máximo de la columna\n",
    "print(\"Máximo:\", df_listings_copy.loc[df_listings_copy['price'].idxmax(),['name', 'host_name', 'price']])"
   ]
  },
  {
   "cell_type": "markdown",
   "id": "5e054b92-bc09-4c7b-8634-a6f804052461",
   "metadata": {},
   "source": [
    "Price presenta valores atípicos. Esto es debido a que, analizando el nombre del valor máximo, por ejemplo, es una propiedad que solo está disponible para los tiempos navideños. Lo cual, a menos de que se quisiera saber información relacionada con esto, lo único que hace es generar ruido en los datos. Sin embargo, sería apropiado evaluar si es necesario eliminarlo o no."
   ]
  },
  {
   "cell_type": "code",
   "execution_count": null,
   "id": "dd9a4cd3-ba6a-4a61-8514-5883b9497d7e",
   "metadata": {},
   "outputs": [],
   "source": [
    "#Boxplot accommodates\n",
    "df_listings_copy.boxplot(column='accommodates')\n",
    "plt.show()"
   ]
  },
  {
   "cell_type": "code",
   "execution_count": null,
   "id": "97e875b9-f95c-4b0d-96ca-b2ab1cb7602b",
   "metadata": {},
   "outputs": [],
   "source": [
    "#Revisar el valor máximo de la columna\n",
    "print(\"Máximo:\", df_listings_copy.loc[df_listings_copy['accommodates'].idxmax(),['name', 'host_name', 'accommodates']])"
   ]
  },
  {
   "cell_type": "markdown",
   "id": "6e5d44b0-7aaa-49f0-9969-c81d87e045a3",
   "metadata": {},
   "source": [
    "Accommodates presenta valores atípicos, pero sería apropiado analizar si estos deberían eliminarse."
   ]
  },
  {
   "cell_type": "code",
   "execution_count": null,
   "id": "3e447d2c-0b9b-4ea8-8455-377bb17d4df8",
   "metadata": {},
   "outputs": [],
   "source": [
    "#Boxplot bedrooms\n",
    "df_listings_copy.boxplot(column='bedrooms')\n",
    "plt.show()"
   ]
  },
  {
   "cell_type": "code",
   "execution_count": null,
   "id": "ee2cc253-fc7e-4bf2-aed0-73a61d1d7ff7",
   "metadata": {},
   "outputs": [],
   "source": [
    "#Revisar el valor máximo de la columna\n",
    "print(\"Máximo:\", df_listings_copy.loc[df_listings_copy['bedrooms'].idxmax(),['name', 'host_name', 'bedrooms']])"
   ]
  },
  {
   "cell_type": "markdown",
   "id": "7d66c2ca-16f7-4c63-a506-0dfbfa71328d",
   "metadata": {},
   "source": [
    "Bedrooms presenta valores atípicos, aunque puede no ser necesario eliminarlos."
   ]
  },
  {
   "cell_type": "code",
   "execution_count": null,
   "id": "aa5e897f-3b87-47ee-a9fd-9e7d08dd8c2f",
   "metadata": {},
   "outputs": [],
   "source": [
    "#Boxplot beds\n",
    "df_listings_copy.boxplot(column='beds')\n",
    "plt.show()"
   ]
  },
  {
   "cell_type": "code",
   "execution_count": null,
   "id": "d74763b6-078f-4dce-9780-b8dfc652cb9c",
   "metadata": {},
   "outputs": [],
   "source": [
    "#Revisar el valor máximo de la columna\n",
    "print(\"Máximo:\", df_listings_copy.loc[df_listings_copy['beds'].idxmax(),['name', 'host_name', 'beds']])"
   ]
  },
  {
   "cell_type": "markdown",
   "id": "a1868845-788b-4713-9979-4f73754da855",
   "metadata": {},
   "source": [
    "Beds presenta valores atípicos, aunque puede no ser necesario eliminarlos."
   ]
  },
  {
   "cell_type": "code",
   "execution_count": null,
   "id": "392e6865-4d30-4b22-9bb8-411d884e1a37",
   "metadata": {},
   "outputs": [],
   "source": [
    "#Boxplot bathrooms\n",
    "df_listings_copy.boxplot(column='bathrooms')\n",
    "plt.show()"
   ]
  },
  {
   "cell_type": "code",
   "execution_count": null,
   "id": "7d5f524c-3687-4e1c-b4e1-501cd7749912",
   "metadata": {},
   "outputs": [],
   "source": [
    "#Revisar el valor máximo de la columna\n",
    "print(\"Máximo:\", df_listings_copy.loc[df_listings_copy['bathrooms'].idxmax(),['name', 'host_name', 'bathrooms']])"
   ]
  },
  {
   "cell_type": "markdown",
   "id": "58f82eb4-8478-40d7-93fd-e8d9d63ab90a",
   "metadata": {},
   "source": [
    "Bathrooms presenta valores atípicos, pero puede no ser necesario eliminarlos."
   ]
  },
  {
   "cell_type": "code",
   "execution_count": null,
   "id": "bd8857ea-69b0-47df-955d-c980517db8f4",
   "metadata": {},
   "outputs": [],
   "source": [
    "#Boxplot minimum_nights\n",
    "df_listings_copy.boxplot(column='minimum_nights')\n",
    "plt.show()"
   ]
  },
  {
   "cell_type": "code",
   "execution_count": null,
   "id": "0fecb26f-4ece-48bf-a745-03fe96fbac5d",
   "metadata": {},
   "outputs": [],
   "source": [
    "#Revisar el valor máximo de la columna\n",
    "print(\"Máximo:\", df_listings_copy.loc[df_listings_copy['minimum_nights'].idxmax(),['name', 'host_name', 'minimum_nights']])"
   ]
  },
  {
   "cell_type": "markdown",
   "id": "21c2589d-294b-4600-b318-67a6ca9502de",
   "metadata": {},
   "source": [
    "Minimum_nights presenta valores atípicos, pero puede no ser necesario eliminarlos."
   ]
  },
  {
   "cell_type": "code",
   "execution_count": null,
   "id": "524e63e1-6244-43b2-a033-8e64efa302f1",
   "metadata": {},
   "outputs": [],
   "source": [
    "#Boxplot maximum_nights\n",
    "df_listings_copy.boxplot(column='maximum_nights')\n",
    "plt.show()"
   ]
  },
  {
   "cell_type": "markdown",
   "id": "de3ce02a-94a8-4237-a5fa-b8ff46f0f31f",
   "metadata": {},
   "source": [
    "Maximum_nights no presenta valores atípicos"
   ]
  },
  {
   "cell_type": "code",
   "execution_count": null,
   "id": "98d64a98-5341-4dc2-8528-a2fb246273cb",
   "metadata": {},
   "outputs": [],
   "source": [
    "#Boxplot availability_365\n",
    "df_listings_copy.boxplot(column='availability_365')\n",
    "plt.show()"
   ]
  },
  {
   "cell_type": "markdown",
   "id": "11a7124d-1c59-4067-9a45-b3483be92fbc",
   "metadata": {},
   "source": [
    "Availability_365 no presenta valores atípicos"
   ]
  },
  {
   "cell_type": "code",
   "execution_count": null,
   "id": "f9bdf108-c59c-4190-917e-fbef461c6211",
   "metadata": {},
   "outputs": [],
   "source": [
    "#Boxplot number_of_reviews\n",
    "df_listings_copy.boxplot(column='number_of_reviews')\n",
    "plt.show()"
   ]
  },
  {
   "cell_type": "code",
   "execution_count": null,
   "id": "72ec894e-944e-4490-949a-f90ad0f562bb",
   "metadata": {},
   "outputs": [],
   "source": [
    "#Revisar el valor máximo de la columna\n",
    "print(\"Máximo:\", df_listings_copy.loc[df_listings_copy['number_of_reviews'].idxmax(),['name', 'host_name', 'number_of_reviews']])"
   ]
  },
  {
   "cell_type": "markdown",
   "id": "bfbd6bbb-76a5-4bb8-b873-fccc19961d05",
   "metadata": {},
   "source": [
    "Number_of_reviews presenta valores atípicos, pero no es necesario eliminarlos."
   ]
  },
  {
   "cell_type": "code",
   "execution_count": null,
   "id": "9593bc17-f519-459d-82b6-42c8863400a2",
   "metadata": {},
   "outputs": [],
   "source": [
    "#Boxplot review_scores_rating\n",
    "df_listings_copy.boxplot(column='review_scores_rating')\n",
    "plt.show()"
   ]
  },
  {
   "cell_type": "code",
   "execution_count": null,
   "id": "68f93e8a-9b78-412a-aa72-1f654604014f",
   "metadata": {},
   "outputs": [],
   "source": [
    "#Revisar el valor mínimo de la columna\n",
    "print(\"Mínimo:\", df_listings_copy.loc[df_listings_copy['review_scores_rating'].idxmin(),['name', 'host_name', 'review_scores_rating']])"
   ]
  },
  {
   "cell_type": "markdown",
   "id": "a28bcfee-46bd-4fd7-b869-50ae826ac1fd",
   "metadata": {},
   "source": [
    "Review_scores_rating tiene valores atípicos que, en este caso, son negativos. Sin embargo, puede no ser necesario eliminarlos."
   ]
  },
  {
   "cell_type": "code",
   "execution_count": null,
   "id": "fe0a3274-31ea-4646-8dc6-c555cf474cc9",
   "metadata": {},
   "outputs": [],
   "source": [
    "#Boxplot review_scores_accuracy\n",
    "df_listings_copy.boxplot(column='review_scores_accuracy')\n",
    "plt.show()"
   ]
  },
  {
   "cell_type": "code",
   "execution_count": null,
   "id": "12473b6a-f1f8-492e-8e52-52d23b4a41ba",
   "metadata": {},
   "outputs": [],
   "source": [
    "#Revisar el valor mínimo de la columna\n",
    "print(\"Mínimo:\", df_listings_copy.loc[df_listings_copy['review_scores_accuracy'].idxmin(),['name', 'host_name', 'review_scores_accuracy']])"
   ]
  },
  {
   "cell_type": "markdown",
   "id": "9660b1cb-44a2-4611-a01d-e79abde13bfe",
   "metadata": {},
   "source": [
    "Review_scores_accuracy tiene valores atípicos que, en este caso, son negativos. Sin embargo, puede no ser necesario eliminarlos."
   ]
  },
  {
   "cell_type": "code",
   "execution_count": null,
   "id": "b455f8f8-e83c-4c20-a6e5-d0293c38a9b1",
   "metadata": {},
   "outputs": [],
   "source": [
    "#Boxplot review_scores_cleanliness\n",
    "df_listings_copy.boxplot(column='review_scores_cleanliness')\n",
    "plt.show()"
   ]
  },
  {
   "cell_type": "code",
   "execution_count": null,
   "id": "ae9d4855-019b-43c9-aace-4302c37402b0",
   "metadata": {},
   "outputs": [],
   "source": [
    "#Revisar el valor mínimo de la columna\n",
    "print(\"Mínimo:\", df_listings_copy.loc[df_listings_copy['review_scores_cleanliness'].idxmin(),['name', 'host_name', 'review_scores_cleanliness']])"
   ]
  },
  {
   "cell_type": "markdown",
   "id": "2aff940d-d9c6-4475-8059-248566affc4a",
   "metadata": {},
   "source": [
    "Review_scores_cleanliness tiene valores atípicos que, en este caso, son negativos. Sin embargo, puede ser necesario eliminarlos."
   ]
  },
  {
   "cell_type": "code",
   "execution_count": null,
   "id": "b0e539ac-9b86-4fe4-ba4f-28080f8dbc6d",
   "metadata": {},
   "outputs": [],
   "source": [
    "#Boxplot review_scores_communication\n",
    "df_listings_copy.boxplot(column='review_scores_communication')\n",
    "plt.show()"
   ]
  },
  {
   "cell_type": "code",
   "execution_count": null,
   "id": "4f58d82b-27f2-402c-82f1-0d1b83c9b34b",
   "metadata": {},
   "outputs": [],
   "source": [
    "#Revisar el valor mínimo de la columna\n",
    "print(\"Mínimo:\", df_listings_copy.loc[df_listings_copy['review_scores_communication'].idxmin(),['name', 'host_name', 'review_scores_communication']])"
   ]
  },
  {
   "cell_type": "markdown",
   "id": "8adde39b-7dd2-46fc-ae26-e1ef50b69c28",
   "metadata": {},
   "source": [
    "Review_scores_communication tiene valores atípicos que, en este caso, son negativos. Sin embargo, puede no ser necesario eliminarlos."
   ]
  },
  {
   "cell_type": "code",
   "execution_count": null,
   "id": "ccdf2656-45cd-40dd-8c2b-46e42d9ad0f1",
   "metadata": {},
   "outputs": [],
   "source": [
    "#Boxplot review_scores_location\n",
    "df_listings_copy.boxplot(column='review_scores_location')\n",
    "plt.show()"
   ]
  },
  {
   "cell_type": "code",
   "execution_count": null,
   "id": "fea6885d-6a4c-4b83-a63d-68661c38bf4e",
   "metadata": {},
   "outputs": [],
   "source": [
    "#Revisar el valor mínimo de la columna\n",
    "print(\"Mínimo:\", df_listings_copy.loc[df_listings_copy['review_scores_location'].idxmin(),['name', 'host_name', 'review_scores_location']])"
   ]
  },
  {
   "cell_type": "markdown",
   "id": "f4b0dcfb-e275-47c8-8770-5ab64c433994",
   "metadata": {},
   "source": [
    "Review_scores_location tiene valores atípicos que, en este caso, son negativos. Sin embargo, puede no ser necesario eliminarlos."
   ]
  },
  {
   "cell_type": "code",
   "execution_count": null,
   "id": "ea42e857-e4cd-4c50-a733-08a433364805",
   "metadata": {},
   "outputs": [],
   "source": [
    "#Boxplot review_scores_value\n",
    "df_listings_copy.boxplot(column='review_scores_value')\n",
    "plt.show()"
   ]
  },
  {
   "cell_type": "code",
   "execution_count": null,
   "id": "ecc34968-cfaa-40d8-b477-76a8f6ad175c",
   "metadata": {},
   "outputs": [],
   "source": [
    "#Revisar el valor mínimo de la columna\n",
    "print(\"Mínimo:\", df_listings_copy.loc[df_listings_copy['review_scores_value'].idxmin(),['name', 'host_name', 'review_scores_value']])"
   ]
  },
  {
   "cell_type": "markdown",
   "id": "7814e37a-3c92-4c88-be31-9f0fb9e32b88",
   "metadata": {},
   "source": [
    "Review_scores_value tiene valores atípicos que, en este caso, son negativos. Sin embargo, puede no ser necesario eliminarlos."
   ]
  },
  {
   "cell_type": "code",
   "execution_count": null,
   "id": "a8f0f630-ab04-4e9f-8491-1aaaa594d679",
   "metadata": {},
   "outputs": [],
   "source": [
    "#Boxplot host_response_rate\n",
    "df_listings_copy.boxplot(column='host_response_rate')\n",
    "plt.show()"
   ]
  },
  {
   "cell_type": "code",
   "execution_count": null,
   "id": "64b0fbdf-51a2-4d12-b75b-9fed25051bcf",
   "metadata": {},
   "outputs": [],
   "source": [
    "#Revisar el valor mínimo de la columna\n",
    "print(\"Mínimo:\", df_listings_copy.loc[df_listings_copy['host_response_rate'].idxmin(),['name', 'host_name', 'host_response_rate']])"
   ]
  },
  {
   "cell_type": "markdown",
   "id": "354b3a2d-7f47-4469-bad5-4109f185f9d3",
   "metadata": {},
   "source": [
    "Host_response_rate tiene valores atípicos que, en este caso, son negativos. Sin embargo, puede no ser necesario borrarlos."
   ]
  },
  {
   "cell_type": "code",
   "execution_count": null,
   "id": "c273f161-e66e-49de-8161-3779f1866ba5",
   "metadata": {},
   "outputs": [],
   "source": [
    "#Boxplot host_acceptance_rate\n",
    "df_listings_copy.boxplot(column='host_acceptance_rate')\n",
    "plt.show()"
   ]
  },
  {
   "cell_type": "code",
   "execution_count": null,
   "id": "37d311f2-0ce4-4a0d-a265-f4731a0589e7",
   "metadata": {},
   "outputs": [],
   "source": [
    "#Revisar el valor mínimo de la columna\n",
    "print(\"Mínimo:\", df_listings_copy.loc[df_listings_copy['host_acceptance_rate'].idxmin(),['name', 'host_name', 'host_acceptance_rate']])"
   ]
  },
  {
   "cell_type": "markdown",
   "id": "747131b6-f7f7-4e5e-a0c2-f5ee05f1b835",
   "metadata": {},
   "source": [
    "Host_acceptance_rate tiene valores atípicos que, en este caso, son negativos. Sin embargo, puede no ser necesario eliminarlos."
   ]
  },
  {
   "cell_type": "markdown",
   "id": "71698e86-4fb6-4b4f-9ad5-309693db9930",
   "metadata": {},
   "source": [
    "#### Colección calendar"
   ]
  },
  {
   "cell_type": "markdown",
   "id": "e9b09069-fac7-4095-9fed-d692deff78db",
   "metadata": {},
   "source": [
    "Antes de poder buscar valores atípicos, primero se deben limpiar algunos campos numéricos. Los cuales no están en un formato correcto y tienen caracteres que no deberían."
   ]
  },
  {
   "cell_type": "code",
   "execution_count": null,
   "id": "6f3367bc-25ce-4ccf-ae08-da156edae149",
   "metadata": {},
   "outputs": [],
   "source": [
    "#Copiar el dataset de calendar para hacer las cambios \n",
    "df_calendar_copy = df_calendar.copy()"
   ]
  },
  {
   "cell_type": "code",
   "execution_count": null,
   "id": "c0092534-f4dc-495b-9da7-7758ca44dcb6",
   "metadata": {},
   "outputs": [],
   "source": [
    "#Cambiar columna price a tipo float\n",
    "df_calendar_copy['price'] = (df_calendar_copy['price'].astype(str)\n",
    "                   .str.replace(r'[^0-9.\\-]', '', regex=True)\n",
    "                   .replace('', np.nan).astype(float))"
   ]
  },
  {
   "cell_type": "code",
   "execution_count": null,
   "id": "e9d6469a-2e6d-49e0-92cb-64fd9a8e30a6",
   "metadata": {},
   "outputs": [],
   "source": [
    "#Boxplot precio\n",
    "df_calendar_copy.boxplot(column='price')\n",
    "plt.show()"
   ]
  },
  {
   "cell_type": "code",
   "execution_count": null,
   "id": "8ae84bef-3494-40c2-9f5a-38a9780777e2",
   "metadata": {},
   "outputs": [],
   "source": [
    "#Revisar el valor máximo de la columna\n",
    "print(\"Máximo:\", df_calendar_copy.loc[df_calendar_copy['price'].idxmax(),['listing_id', 'price']])"
   ]
  },
  {
   "cell_type": "markdown",
   "id": "72e512ae-6c08-4fd0-bdda-f128caebc784",
   "metadata": {},
   "source": [
    "Price presenta valores atípicos, pero siendo que es el precio de una reserva existente (son muchos registros con estos mismos valores, pero diferentes fechas), no sería conveniente borrarlo. Aunque vale la pena destacar el hecho de que ese id no aparece en la colección de listings, por lo que se debería evaluar de cerca este escenario y revisar la relevancia de estos documentos."
   ]
  },
  {
   "cell_type": "code",
   "execution_count": null,
   "id": "d0da814b-43ce-45c6-b2dc-5d822da4358e",
   "metadata": {},
   "outputs": [],
   "source": [
    "#Boxplot minimum_nights\n",
    "df_calendar_copy.boxplot(column='minimum_nights')\n",
    "plt.show()"
   ]
  },
  {
   "cell_type": "code",
   "execution_count": null,
   "id": "fdbc59c5-06f7-483b-8794-4ddc2c7de186",
   "metadata": {},
   "outputs": [],
   "source": [
    "#Revisar el valor máximo de la columna\n",
    "print(\"Máximo:\", df_calendar_copy.loc[df_calendar_copy['minimum_nights'].idxmax(),['listing_id', 'minimum_nights']])"
   ]
  },
  {
   "cell_type": "markdown",
   "id": "789e26b9-50bb-4bcb-b7e6-3dc3fbdd957f",
   "metadata": {},
   "source": [
    "Minimum_nights tiene valores atípicos, pero no sería necesario eliminarlos."
   ]
  },
  {
   "cell_type": "code",
   "execution_count": null,
   "id": "d753efa3-d19a-4355-8b6d-6aa10a542c44",
   "metadata": {},
   "outputs": [],
   "source": [
    "#Boxplot maximum_nights\n",
    "df_calendar_copy.boxplot(column='maximum_nights')\n",
    "plt.show()"
   ]
  },
  {
   "cell_type": "code",
   "execution_count": null,
   "id": "2d497d1d-6c1a-46e1-9622-f7c6fbb0e572",
   "metadata": {},
   "outputs": [],
   "source": [
    "#Revisar el valor máximo de la columna\n",
    "print(\"Máximo:\", df_calendar_copy.loc[df_calendar_copy['maximum_nights'].idxmax(),['listing_id', 'maximum_nights']])"
   ]
  },
  {
   "cell_type": "markdown",
   "id": "75faa62d-4c85-4265-afe4-676efe57810b",
   "metadata": {},
   "source": [
    "Maxmimum_nights tiene valores atípicos, pero esta vez si hay que eliminarlos. Puesto que este valor no es el real que corresponde al listings_id mostrado en el registro, dado que esa propiedad tiene un máximo de nocches de 1125."
   ]
  },
  {
   "cell_type": "markdown",
   "id": "12f8b419-ce20-45cb-84b2-7e823b930660",
   "metadata": {},
   "source": [
    "#### Colección Reviews"
   ]
  },
  {
   "cell_type": "markdown",
   "id": "ed063941-0ef3-4fa2-a66a-86faae25eaf8",
   "metadata": {},
   "source": [
    "Esta colección no tiene campos numéricos que se puedan evaluar en busca de datos atípicos, por lo que aquí no va haber ningún análisis."
   ]
  },
  {
   "cell_type": "markdown",
   "id": "b49b43ae-7e47-489b-abde-85021bf495a8",
   "metadata": {},
   "source": [
    "## Transformaciones potenciales"
   ]
  },
  {
   "cell_type": "markdown",
   "id": "2195880f-2fe5-45ba-9459-d9c0692e599b",
   "metadata": {},
   "source": [
    "### Desanidar campos"
   ]
  },
  {
   "cell_type": "markdown",
   "id": "ec2ebb64-97bd-4e76-b6c5-149f10ddc9e6",
   "metadata": {},
   "source": [
    "Dentro de todas las colecciones, solo listings tiene campos que deberían ser desanidados (listas o diccionarios). Siendo en este caso, las columnas de ammenities y la de host_verification.\n",
    "\n",
    "Primero, se procede a desanidar el campo de host_verifications. Ante de hacerlo, se debe validar qué es lo que contiene la columna."
   ]
  },
  {
   "cell_type": "code",
   "execution_count": null,
   "id": "fab88a40-87f5-487f-967e-e1f2de5f4258",
   "metadata": {},
   "outputs": [],
   "source": [
    "#Contar valores únicos en la columna para buscar anomalias\n",
    "df_listings[\"host_verifications\"].value_counts().head(30)"
   ]
  },
  {
   "cell_type": "markdown",
   "id": "b026c0e7-3da7-41d2-b84c-991948711b0b",
   "metadata": {},
   "source": [
    "Ahora, se procede a hacer el desanidado de la columna."
   ]
  },
  {
   "cell_type": "code",
   "execution_count": null,
   "id": "cf154287-7693-4cb5-9e00-4d82cbec809b",
   "metadata": {},
   "outputs": [],
   "source": [
    "#Convertir la columna de string a lista\n",
    "def safe_eval(x): # Función para hacer la conversión\n",
    "    try:\n",
    "        return ast.literal_eval(x)\n",
    "    except (ValueError, SyntaxError):\n",
    "        return []   # si hay error, devuelve lista vacía\n",
    "\n",
    "df_listings_copy[\"host_verifications\"] = df_listings[\"host_verifications\"].apply(safe_eval)\n",
    "\n",
    "#Convertir las listas de host_verifications en varias columnas independientes\n",
    "df_expanded_hv = df_listings_copy[\"host_verifications\"].apply(pd.Series)\n",
    "\n",
    "#Renombrar las columnas creadas\n",
    "df_expanded_hv.columns = [f\"host_verification_{i+1}\" for i in range(df_expanded_hv.shape[1])]\n",
    "\n",
    "#Agregar estas columnas al dataset de listings\n",
    "df_listings_copy_hv = pd.concat([df_listings_copy, df_expanded_hv], axis=1)\n",
    "\n",
    "#Eliminar la columna vieja de host_verifications\n",
    "df_listings_copy_hv = df_listings_copy_hv.drop(columns=[\"host_verifications\"])\n",
    "\n",
    "#Reorganizar columnas nuevas para que esten en la posición de la versión antigua\n",
    "col1 = df_listings_copy_hv.pop(\"host_verification_1\") #Sacar la columna 1 de verificación\n",
    "df_listings_copy_hv.insert(24, \"host_verification_1\", col1) #Insertarla en la posición 24\n",
    "\n",
    "col2 = df_listings_copy_hv.pop(\"host_verification_2\") #Sacar la columna 2 de verificación\n",
    "df_listings_copy_hv.insert(25, \"host_verification_2\", col2) #Insertarla en la posición 25\n",
    "\n",
    "col3 = df_listings_copy_hv.pop(\"host_verification_3\") #Sacar la columna 3 de verificación\n",
    "df_listings_copy_hv.insert(26, \"host_verification_3\", col3) #Insertarla en la posición 26"
   ]
  },
  {
   "cell_type": "code",
   "execution_count": null,
   "id": "2ecb224a-31cb-43cd-96a0-19a3375b14c7",
   "metadata": {},
   "outputs": [],
   "source": [
    "#Revisión del resultado de la operación\n",
    "df_listings_copy_hv.info()"
   ]
  },
  {
   "cell_type": "markdown",
   "id": "b1c34a20-526f-4df9-b033-75d382393540",
   "metadata": {},
   "source": [
    "Comparando el resultado con la versión original:"
   ]
  },
  {
   "cell_type": "code",
   "execution_count": null,
   "id": "d3d2afbd-cbb2-4d5e-967c-d56b646dd4a4",
   "metadata": {},
   "outputs": [],
   "source": [
    "df_listings_copy_hv[['host_verification_1','host_verification_2','host_verification_3']]"
   ]
  },
  {
   "cell_type": "code",
   "execution_count": null,
   "id": "321aa902-fd8f-4f16-b42f-bcbb07c4e977",
   "metadata": {},
   "outputs": [],
   "source": [
    "df_listings_copy['host_verifications']"
   ]
  },
  {
   "cell_type": "markdown",
   "id": "27621dae-86d3-4580-948c-d250f0ac0ba8",
   "metadata": {},
   "source": [
    "Se puede apreciar que el cambio no afectó los datos.\n",
    "\n",
    "Ahora, pasando a la columna de amenities:"
   ]
  },
  {
   "cell_type": "code",
   "execution_count": null,
   "id": "508b8b51-383c-4b84-8c5c-1ad78de8951b",
   "metadata": {},
   "outputs": [],
   "source": [
    "#Confirmar que amenities es una columna tipo lista\n",
    "print(type(df_listings_copy_hv[\"amenities\"].iloc[0]))"
   ]
  },
  {
   "cell_type": "code",
   "execution_count": null,
   "id": "8a69da7b-c58b-40ae-89a7-bf6f07bb6805",
   "metadata": {},
   "outputs": [],
   "source": [
    "#Expandir amenities en varias columnas\n",
    "df_expanded_a = df_listings_copy_hv[\"amenities\"].apply(pd.Series)\n",
    "df_expanded_a.columns = [f\"amenity_{i+1}\" for i in range(df_expanded_a.shape[1])]\n",
    "\n",
    "#Agregar y organizar las nuevas columnas al dataset\n",
    "pos = 38\n",
    "df_listings_copy_hv_a = pd.concat([df_listings_copy_hv.iloc[:, :pos], df_expanded_a, df_listings_copy_hv.iloc[:, pos:]], axis=1)"
   ]
  },
  {
   "cell_type": "code",
   "execution_count": null,
   "id": "f22283b7-f171-4a06-82e7-ab17f7adb3e2",
   "metadata": {},
   "outputs": [],
   "source": [
    "#Resultado de la operación\n",
    "df_listings_copy_hv_a.info()"
   ]
  },
  {
   "cell_type": "code",
   "execution_count": null,
   "id": "0a7a802e-218f-4b81-a54d-2cd524d684b9",
   "metadata": {},
   "outputs": [],
   "source": []
  }
 ],
 "metadata": {
  "kernelspec": {
   "display_name": "Python 3 (ipykernel)",
   "language": "python",
   "name": "python3"
  },
  "language_info": {
   "codemirror_mode": {
    "name": "ipython",
    "version": 3
   },
   "file_extension": ".py",
   "mimetype": "text/x-python",
   "name": "python",
   "nbconvert_exporter": "python",
   "pygments_lexer": "ipython3",
   "version": "3.13.7"
  }
 },
 "nbformat": 4,
 "nbformat_minor": 5
}
